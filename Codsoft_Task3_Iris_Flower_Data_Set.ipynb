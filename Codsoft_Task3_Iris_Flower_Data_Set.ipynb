{
 "cells": [
  {
   "cell_type": "markdown",
   "id": "b775ce5c",
   "metadata": {},
   "source": [
    "## Iris Flower Data Set"
   ]
  },
  {
   "cell_type": "markdown",
   "id": "ee2c2176",
   "metadata": {},
   "source": [
    "The Iris flower data set is a multivariate data set introduced by the British statistician and biologist Ronald Fisher in his 1936 paper The use of multiple measurements in taxonomic problems. It is sometimes called Anderson's Iris data set because Edgar Anderson collected the data to quantify the morphologic variation of Iris flowers of three related species. The data set consists of 50 samples from each of three species of Iris (Iris Setosa, Iris virginica, and Iris versicolor). Four features were measured from each sample: the length and the width of the sepals and petals, in centimeters.\n",
    "\n",
    "This dataset became a typical test case for many statistical classification techniques in machine learning such as support vector machines"
   ]
  },
  {
   "cell_type": "markdown",
   "id": "5fef32a2",
   "metadata": {},
   "source": [
    "### Import the Libraries"
   ]
  },
  {
   "cell_type": "code",
   "execution_count": 1,
   "id": "a8575e0f",
   "metadata": {},
   "outputs": [],
   "source": [
    "import numpy as np\n",
    "import pandas as pd\n",
    "import matplotlib.pyplot as plt\n",
    "import seaborn as sns"
   ]
  },
  {
   "cell_type": "markdown",
   "id": "967d77e7",
   "metadata": {},
   "source": [
    "#### Reading the Dataset"
   ]
  },
  {
   "cell_type": "code",
   "execution_count": 66,
   "id": "535ba178",
   "metadata": {},
   "outputs": [
    {
     "data": {
      "text/html": [
       "<div>\n",
       "<style scoped>\n",
       "    .dataframe tbody tr th:only-of-type {\n",
       "        vertical-align: middle;\n",
       "    }\n",
       "\n",
       "    .dataframe tbody tr th {\n",
       "        vertical-align: top;\n",
       "    }\n",
       "\n",
       "    .dataframe thead th {\n",
       "        text-align: right;\n",
       "    }\n",
       "</style>\n",
       "<table border=\"1\" class=\"dataframe\">\n",
       "  <thead>\n",
       "    <tr style=\"text-align: right;\">\n",
       "      <th></th>\n",
       "      <th>sepal_length</th>\n",
       "      <th>sepal_width</th>\n",
       "      <th>petal_length</th>\n",
       "      <th>petal_width</th>\n",
       "      <th>species</th>\n",
       "    </tr>\n",
       "  </thead>\n",
       "  <tbody>\n",
       "    <tr>\n",
       "      <th>0</th>\n",
       "      <td>5.1</td>\n",
       "      <td>3.5</td>\n",
       "      <td>1.4</td>\n",
       "      <td>0.2</td>\n",
       "      <td>Iris-setosa</td>\n",
       "    </tr>\n",
       "    <tr>\n",
       "      <th>1</th>\n",
       "      <td>4.9</td>\n",
       "      <td>3.0</td>\n",
       "      <td>1.4</td>\n",
       "      <td>0.2</td>\n",
       "      <td>Iris-setosa</td>\n",
       "    </tr>\n",
       "    <tr>\n",
       "      <th>2</th>\n",
       "      <td>4.7</td>\n",
       "      <td>3.2</td>\n",
       "      <td>1.3</td>\n",
       "      <td>0.2</td>\n",
       "      <td>Iris-setosa</td>\n",
       "    </tr>\n",
       "    <tr>\n",
       "      <th>3</th>\n",
       "      <td>4.6</td>\n",
       "      <td>3.1</td>\n",
       "      <td>1.5</td>\n",
       "      <td>0.2</td>\n",
       "      <td>Iris-setosa</td>\n",
       "    </tr>\n",
       "    <tr>\n",
       "      <th>4</th>\n",
       "      <td>5.0</td>\n",
       "      <td>3.6</td>\n",
       "      <td>1.4</td>\n",
       "      <td>0.2</td>\n",
       "      <td>Iris-setosa</td>\n",
       "    </tr>\n",
       "  </tbody>\n",
       "</table>\n",
       "</div>"
      ],
      "text/plain": [
       "   sepal_length  sepal_width  petal_length  petal_width      species\n",
       "0           5.1          3.5           1.4          0.2  Iris-setosa\n",
       "1           4.9          3.0           1.4          0.2  Iris-setosa\n",
       "2           4.7          3.2           1.3          0.2  Iris-setosa\n",
       "3           4.6          3.1           1.5          0.2  Iris-setosa\n",
       "4           5.0          3.6           1.4          0.2  Iris-setosa"
      ]
     },
     "execution_count": 66,
     "metadata": {},
     "output_type": "execute_result"
    }
   ],
   "source": [
    "df = pd.read_csv('IRIS.csv')\n",
    "df.head()"
   ]
  },
  {
   "cell_type": "code",
   "execution_count": 4,
   "id": "b14ae123",
   "metadata": {},
   "outputs": [],
   "source": [
    "df1 = df.copy()    # Making the copy of the dataframe"
   ]
  },
  {
   "cell_type": "code",
   "execution_count": 5,
   "id": "a3d28c26",
   "metadata": {},
   "outputs": [
    {
     "data": {
      "text/html": [
       "<div>\n",
       "<style scoped>\n",
       "    .dataframe tbody tr th:only-of-type {\n",
       "        vertical-align: middle;\n",
       "    }\n",
       "\n",
       "    .dataframe tbody tr th {\n",
       "        vertical-align: top;\n",
       "    }\n",
       "\n",
       "    .dataframe thead th {\n",
       "        text-align: right;\n",
       "    }\n",
       "</style>\n",
       "<table border=\"1\" class=\"dataframe\">\n",
       "  <thead>\n",
       "    <tr style=\"text-align: right;\">\n",
       "      <th></th>\n",
       "      <th>sepal_length</th>\n",
       "      <th>sepal_width</th>\n",
       "      <th>petal_length</th>\n",
       "      <th>petal_width</th>\n",
       "    </tr>\n",
       "  </thead>\n",
       "  <tbody>\n",
       "    <tr>\n",
       "      <th>count</th>\n",
       "      <td>150.000000</td>\n",
       "      <td>150.000000</td>\n",
       "      <td>150.000000</td>\n",
       "      <td>150.000000</td>\n",
       "    </tr>\n",
       "    <tr>\n",
       "      <th>mean</th>\n",
       "      <td>5.843333</td>\n",
       "      <td>3.054000</td>\n",
       "      <td>3.758667</td>\n",
       "      <td>1.198667</td>\n",
       "    </tr>\n",
       "    <tr>\n",
       "      <th>std</th>\n",
       "      <td>0.828066</td>\n",
       "      <td>0.433594</td>\n",
       "      <td>1.764420</td>\n",
       "      <td>0.763161</td>\n",
       "    </tr>\n",
       "    <tr>\n",
       "      <th>min</th>\n",
       "      <td>4.300000</td>\n",
       "      <td>2.000000</td>\n",
       "      <td>1.000000</td>\n",
       "      <td>0.100000</td>\n",
       "    </tr>\n",
       "    <tr>\n",
       "      <th>25%</th>\n",
       "      <td>5.100000</td>\n",
       "      <td>2.800000</td>\n",
       "      <td>1.600000</td>\n",
       "      <td>0.300000</td>\n",
       "    </tr>\n",
       "    <tr>\n",
       "      <th>50%</th>\n",
       "      <td>5.800000</td>\n",
       "      <td>3.000000</td>\n",
       "      <td>4.350000</td>\n",
       "      <td>1.300000</td>\n",
       "    </tr>\n",
       "    <tr>\n",
       "      <th>75%</th>\n",
       "      <td>6.400000</td>\n",
       "      <td>3.300000</td>\n",
       "      <td>5.100000</td>\n",
       "      <td>1.800000</td>\n",
       "    </tr>\n",
       "    <tr>\n",
       "      <th>max</th>\n",
       "      <td>7.900000</td>\n",
       "      <td>4.400000</td>\n",
       "      <td>6.900000</td>\n",
       "      <td>2.500000</td>\n",
       "    </tr>\n",
       "  </tbody>\n",
       "</table>\n",
       "</div>"
      ],
      "text/plain": [
       "       sepal_length  sepal_width  petal_length  petal_width\n",
       "count    150.000000   150.000000    150.000000   150.000000\n",
       "mean       5.843333     3.054000      3.758667     1.198667\n",
       "std        0.828066     0.433594      1.764420     0.763161\n",
       "min        4.300000     2.000000      1.000000     0.100000\n",
       "25%        5.100000     2.800000      1.600000     0.300000\n",
       "50%        5.800000     3.000000      4.350000     1.300000\n",
       "75%        6.400000     3.300000      5.100000     1.800000\n",
       "max        7.900000     4.400000      6.900000     2.500000"
      ]
     },
     "execution_count": 5,
     "metadata": {},
     "output_type": "execute_result"
    }
   ],
   "source": [
    "df.describe()     # Describing statistical measures"
   ]
  },
  {
   "cell_type": "code",
   "execution_count": 6,
   "id": "ee958510",
   "metadata": {},
   "outputs": [
    {
     "data": {
      "text/plain": [
       "(150, 5)"
      ]
     },
     "execution_count": 6,
     "metadata": {},
     "output_type": "execute_result"
    }
   ],
   "source": [
    "df.shape     # Rows-150,Columns-5"
   ]
  },
  {
   "cell_type": "code",
   "execution_count": 16,
   "id": "8c9a948a",
   "metadata": {
    "scrolled": true
   },
   "outputs": [
    {
     "data": {
      "text/plain": [
       "sepal_length    float64\n",
       "sepal_width     float64\n",
       "petal_length    float64\n",
       "petal_width     float64\n",
       "species          object\n",
       "dtype: object"
      ]
     },
     "execution_count": 16,
     "metadata": {},
     "output_type": "execute_result"
    }
   ],
   "source": [
    "df.dtypes      # Checking the datatypes"
   ]
  },
  {
   "cell_type": "markdown",
   "id": "3b1a3d49",
   "metadata": {},
   "source": [
    "## Data Preprocessing"
   ]
  },
  {
   "cell_type": "markdown",
   "id": "7efa7680",
   "metadata": {},
   "source": [
    "#### 1) Checking Null Values"
   ]
  },
  {
   "cell_type": "code",
   "execution_count": 7,
   "id": "a0b1b65d",
   "metadata": {},
   "outputs": [
    {
     "data": {
      "text/plain": [
       "sepal_length    0\n",
       "sepal_width     0\n",
       "petal_length    0\n",
       "petal_width     0\n",
       "species         0\n",
       "dtype: int64"
      ]
     },
     "execution_count": 7,
     "metadata": {},
     "output_type": "execute_result"
    }
   ],
   "source": [
    "df.isnull().sum()    # There is no null values"
   ]
  },
  {
   "cell_type": "markdown",
   "id": "96244bf4",
   "metadata": {},
   "source": [
    "#### 2) Checking Duplicates"
   ]
  },
  {
   "cell_type": "code",
   "execution_count": 9,
   "id": "170274fd",
   "metadata": {},
   "outputs": [
    {
     "data": {
      "text/plain": [
       "3"
      ]
     },
     "execution_count": 9,
     "metadata": {},
     "output_type": "execute_result"
    }
   ],
   "source": [
    "df.duplicated().sum()   # There are 3 duplicates "
   ]
  },
  {
   "cell_type": "markdown",
   "id": "eb7ae01c",
   "metadata": {},
   "source": [
    "#### 3) Droping the Duplicates"
   ]
  },
  {
   "cell_type": "code",
   "execution_count": 14,
   "id": "25198571",
   "metadata": {},
   "outputs": [],
   "source": [
    "df.drop_duplicates(inplace=True)    # Dropping the Duplicates"
   ]
  },
  {
   "cell_type": "code",
   "execution_count": 15,
   "id": "83ccc90f",
   "metadata": {},
   "outputs": [
    {
     "data": {
      "text/plain": [
       "(147, 5)"
      ]
     },
     "execution_count": 15,
     "metadata": {},
     "output_type": "execute_result"
    }
   ],
   "source": [
    "df.shape        # checking the shape after dropping duplicates"
   ]
  },
  {
   "cell_type": "code",
   "execution_count": 18,
   "id": "7a868ce3",
   "metadata": {},
   "outputs": [
    {
     "data": {
      "text/plain": [
       "Iris-versicolor    50\n",
       "Iris-virginica     49\n",
       "Iris-setosa        48\n",
       "Name: species, dtype: int64"
      ]
     },
     "execution_count": 18,
     "metadata": {},
     "output_type": "execute_result"
    }
   ],
   "source": [
    "df['species'].value_counts()      # checking the value counts of target variable"
   ]
  },
  {
   "cell_type": "markdown",
   "id": "45a843b1",
   "metadata": {},
   "source": [
    "## EDA"
   ]
  },
  {
   "cell_type": "code",
   "execution_count": 20,
   "id": "380b32f4",
   "metadata": {},
   "outputs": [
    {
     "data": {
      "image/png": "[encoded data removed]",
      "text/plain": [
       "<Figure size 640x480 with 1 Axes>"
      ]
     },
     "metadata": {},
     "output_type": "display_data"
    }
   ],
   "source": [
    "sns.countplot(x=df['species'])\n",
    "plt.title('Countplot of species')   \n",
    "plt.show() "
   ]
  },
  {
   "cell_type": "markdown",
   "id": "0a7926be",
   "metadata": {},
   "source": [
    "### Inference\n",
    "1) According to the data Iris-versicolor has more count"
   ]
  },
  {
   "cell_type": "markdown",
   "id": "cc056c03",
   "metadata": {},
   "source": [
    "### Seprating Num columns and Cat columns"
   ]
  },
  {
   "cell_type": "code",
   "execution_count": 21,
   "id": "9a600cb8",
   "metadata": {},
   "outputs": [
    {
     "name": "stdout",
     "output_type": "stream",
     "text": [
      "Index(['species'], dtype='object')\n",
      "Index(['sepal_length', 'sepal_width', 'petal_length', 'petal_width'], dtype='object')\n"
     ]
    }
   ],
   "source": [
    "cat_cols = df.dtypes[df.dtypes=='object'].index\n",
    "num_cols = df.dtypes[df.dtypes!='object'].index\n",
    "print(cat_cols)\n",
    "print(num_cols)"
   ]
  },
  {
   "cell_type": "code",
   "execution_count": 25,
   "id": "6e5f0939",
   "metadata": {},
   "outputs": [
    {
     "data": {
      "image/png": "[encoded data removed]",
      "text/plain": [
       "<Figure size 640x480 with 1 Axes>"
      ]
     },
     "metadata": {},
     "output_type": "display_data"
    },
    {
     "data": {
      "image/png": "[encoded data removed]",
      "text/plain": [
       "<Figure size 640x480 with 1 Axes>"
      ]
     },
     "metadata": {},
     "output_type": "display_data"
    },
    {
     "data": {
      "image/png": "[encoded data removed]",
      "text/plain": [
       "<Figure size 640x480 with 1 Axes>"
      ]
     },
     "metadata": {},
     "output_type": "display_data"
    },
    {
     "data": {
      "image/png": "[encoded data removed]",
      "text/plain": [
       "<Figure size 640x480 with 1 Axes>"
      ]
     },
     "metadata": {},
     "output_type": "display_data"
    }
   ],
   "source": [
    "for i in num_cols:\n",
    "    sns.boxplot(x = df[i])\n",
    "    plt.show()"
   ]
  },
  {
   "cell_type": "markdown",
   "id": "d0d3e94e",
   "metadata": {},
   "source": [
    "#### Inference\n",
    "1) According the data there are little outliers in sepal_width"
   ]
  },
  {
   "cell_type": "code",
   "execution_count": 29,
   "id": "e11582e2",
   "metadata": {},
   "outputs": [
    {
     "data": {
      "image/png": "[encoded data removed]",
      "text/plain": [
       "<Figure size 640x480 with 1 Axes>"
      ]
     },
     "metadata": {},
     "output_type": "display_data"
    }
   ],
   "source": [
    "for i in cat_cols:\n",
    "    plt.title(f'Pie Chart for {i}')\n",
    "    x = df[i].value_counts()\n",
    "    plt.pie(x.values, labels = x.index,autopct=\"%.2f%%\")\n",
    "    plt.show()"
   ]
  },
  {
   "cell_type": "markdown",
   "id": "c55bc96b",
   "metadata": {},
   "source": [
    "#### Inference\n",
    "1) According to the data Iris-versicolor has more count"
   ]
  },
  {
   "cell_type": "markdown",
   "id": "08315787",
   "metadata": {},
   "source": [
    "### Correlation"
   ]
  },
  {
   "cell_type": "code",
   "execution_count": 32,
   "id": "d426869e",
   "metadata": {},
   "outputs": [
    {
     "data": {
      "image/png": "[encoded data removed]",
      "text/plain": [
       "<Figure size 1600x1600 with 2 Axes>"
      ]
     },
     "metadata": {},
     "output_type": "display_data"
    }
   ],
   "source": [
    "corr = df.corr()\n",
    "\n",
    "plt.figure(figsize=(16,16))\n",
    "sns.heatmap(corr[abs(corr)>0.7],annot=True,cmap='coolwarm')\n",
    "plt.show()"
   ]
  },
  {
   "cell_type": "markdown",
   "id": "14bc31a2",
   "metadata": {},
   "source": [
    "### Inference\n",
    "1) There are features which are highly correlated like petal_length and sepal_length  <br>\n",
    "2) Petal_width and sepal_length  <br>"
   ]
  },
  {
   "cell_type": "markdown",
   "id": "4ea3ae2b",
   "metadata": {},
   "source": [
    "### Handling Outliers"
   ]
  },
  {
   "cell_type": "code",
   "execution_count": 33,
   "id": "0aa7f088",
   "metadata": {},
   "outputs": [
    {
     "data": {
      "text/html": [
       "<div>\n",
       "<style scoped>\n",
       "    .dataframe tbody tr th:only-of-type {\n",
       "        vertical-align: middle;\n",
       "    }\n",
       "\n",
       "    .dataframe tbody tr th {\n",
       "        vertical-align: top;\n",
       "    }\n",
       "\n",
       "    .dataframe thead th {\n",
       "        text-align: right;\n",
       "    }\n",
       "</style>\n",
       "<table border=\"1\" class=\"dataframe\">\n",
       "  <thead>\n",
       "    <tr style=\"text-align: right;\">\n",
       "      <th></th>\n",
       "      <th>count</th>\n",
       "      <th>mean</th>\n",
       "      <th>std</th>\n",
       "      <th>min</th>\n",
       "      <th>1%</th>\n",
       "      <th>2%</th>\n",
       "      <th>3%</th>\n",
       "      <th>5%</th>\n",
       "      <th>50%</th>\n",
       "      <th>95%</th>\n",
       "      <th>96%</th>\n",
       "      <th>97%</th>\n",
       "      <th>98%</th>\n",
       "      <th>99%</th>\n",
       "      <th>max</th>\n",
       "    </tr>\n",
       "  </thead>\n",
       "  <tbody>\n",
       "    <tr>\n",
       "      <th>sepal_length</th>\n",
       "      <td>147.0</td>\n",
       "      <td>5.856463</td>\n",
       "      <td>0.829100</td>\n",
       "      <td>4.3</td>\n",
       "      <td>4.400</td>\n",
       "      <td>4.4</td>\n",
       "      <td>4.538</td>\n",
       "      <td>4.60</td>\n",
       "      <td>5.8</td>\n",
       "      <td>7.27</td>\n",
       "      <td>7.432</td>\n",
       "      <td>7.662</td>\n",
       "      <td>7.700</td>\n",
       "      <td>7.700</td>\n",
       "      <td>7.9</td>\n",
       "    </tr>\n",
       "    <tr>\n",
       "      <th>sepal_width</th>\n",
       "      <td>147.0</td>\n",
       "      <td>3.055782</td>\n",
       "      <td>0.437009</td>\n",
       "      <td>2.0</td>\n",
       "      <td>2.200</td>\n",
       "      <td>2.2</td>\n",
       "      <td>2.300</td>\n",
       "      <td>2.33</td>\n",
       "      <td>3.0</td>\n",
       "      <td>3.80</td>\n",
       "      <td>3.816</td>\n",
       "      <td>3.900</td>\n",
       "      <td>4.008</td>\n",
       "      <td>4.154</td>\n",
       "      <td>4.4</td>\n",
       "    </tr>\n",
       "    <tr>\n",
       "      <th>petal_length</th>\n",
       "      <td>147.0</td>\n",
       "      <td>3.780272</td>\n",
       "      <td>1.759111</td>\n",
       "      <td>1.0</td>\n",
       "      <td>1.146</td>\n",
       "      <td>1.2</td>\n",
       "      <td>1.300</td>\n",
       "      <td>1.30</td>\n",
       "      <td>4.4</td>\n",
       "      <td>6.10</td>\n",
       "      <td>6.132</td>\n",
       "      <td>6.362</td>\n",
       "      <td>6.608</td>\n",
       "      <td>6.700</td>\n",
       "      <td>6.9</td>\n",
       "    </tr>\n",
       "    <tr>\n",
       "      <th>petal_width</th>\n",
       "      <td>147.0</td>\n",
       "      <td>1.208844</td>\n",
       "      <td>0.757874</td>\n",
       "      <td>0.1</td>\n",
       "      <td>0.100</td>\n",
       "      <td>0.1</td>\n",
       "      <td>0.200</td>\n",
       "      <td>0.20</td>\n",
       "      <td>1.3</td>\n",
       "      <td>2.30</td>\n",
       "      <td>2.316</td>\n",
       "      <td>2.400</td>\n",
       "      <td>2.408</td>\n",
       "      <td>2.500</td>\n",
       "      <td>2.5</td>\n",
       "    </tr>\n",
       "  </tbody>\n",
       "</table>\n",
       "</div>"
      ],
      "text/plain": [
       "              count      mean       std  min     1%   2%     3%    5%  50%  \\\n",
       "sepal_length  147.0  5.856463  0.829100  4.3  4.400  4.4  4.538  4.60  5.8   \n",
       "sepal_width   147.0  3.055782  0.437009  2.0  2.200  2.2  2.300  2.33  3.0   \n",
       "petal_length  147.0  3.780272  1.759111  1.0  1.146  1.2  1.300  1.30  4.4   \n",
       "petal_width   147.0  1.208844  0.757874  0.1  0.100  0.1  0.200  0.20  1.3   \n",
       "\n",
       "               95%    96%    97%    98%    99%  max  \n",
       "sepal_length  7.27  7.432  7.662  7.700  7.700  7.9  \n",
       "sepal_width   3.80  3.816  3.900  4.008  4.154  4.4  \n",
       "petal_length  6.10  6.132  6.362  6.608  6.700  6.9  \n",
       "petal_width   2.30  2.316  2.400  2.408  2.500  2.5  "
      ]
     },
     "execution_count": 33,
     "metadata": {},
     "output_type": "execute_result"
    }
   ],
   "source": [
    "df.describe(percentiles=[0.01,0.02,0.03,0.05,0.95,0.96,0.97,0.98,0.99]).T"
   ]
  },
  {
   "cell_type": "markdown",
   "id": "d11915d7",
   "metadata": {},
   "source": [
    "#### Inference\n",
    "1) There are minimul no. of outliers so here we are not treating it"
   ]
  },
  {
   "cell_type": "markdown",
   "id": "f6c8ab49",
   "metadata": {},
   "source": [
    "### Select x and y"
   ]
  },
  {
   "cell_type": "code",
   "execution_count": 34,
   "id": "ed5480bf",
   "metadata": {},
   "outputs": [
    {
     "name": "stdout",
     "output_type": "stream",
     "text": [
      "(147, 4)\n",
      "(147,)\n"
     ]
    }
   ],
   "source": [
    "x = df.drop(['species'],axis=1)\n",
    "y = df['species']\n",
    "print(x.shape)\n",
    "print(y.shape)"
   ]
  },
  {
   "cell_type": "markdown",
   "id": "d9ee32be",
   "metadata": {},
   "source": [
    "### Split data into train and test"
   ]
  },
  {
   "cell_type": "code",
   "execution_count": 35,
   "id": "9e8f513c",
   "metadata": {},
   "outputs": [],
   "source": [
    "from sklearn.model_selection import train_test_split"
   ]
  },
  {
   "cell_type": "code",
   "execution_count": 36,
   "id": "97a641c4",
   "metadata": {},
   "outputs": [
    {
     "name": "stdout",
     "output_type": "stream",
     "text": [
      "(102, 4)\n",
      "(45, 4)\n",
      "(102,)\n",
      "(45,)\n"
     ]
    }
   ],
   "source": [
    "x_train,x_test,y_train,y_test = train_test_split(x,y,test_size=0.30,random_state=42)\n",
    "print(x_train.shape)\n",
    "print(x_test.shape)\n",
    "print(y_train.shape)\n",
    "print(y_test.shape)"
   ]
  },
  {
   "cell_type": "markdown",
   "id": "4f9c59ca",
   "metadata": {},
   "source": [
    "### Evaluating the Model"
   ]
  },
  {
   "cell_type": "code",
   "execution_count": 37,
   "id": "85e604a6",
   "metadata": {},
   "outputs": [],
   "source": [
    "def eval_model(model,x_train,y_train,x_test,y_test,mname):\n",
    "    model.fit(x_train,y_train)\n",
    "    ypred = model.predict(x_test)\n",
    "    train_acc = model.score(x_train,y_train)\n",
    "    test_acc = model.score(x_test,y_test)\n",
    "    cm = confusion_matrix(y_test,ypred)\n",
    "    cr = classification_report(y_test,ypred)\n",
    "    res_df = pd.DataFrame({'Train_Acc':train_acc,'Test_Acc':test_acc},index=[mname])\n",
    "    print('Confusion_Matrix\\n',cm)\n",
    "    print('Classification Report\\n',cr)\n",
    "    return res_df"
   ]
  },
  {
   "cell_type": "code",
   "execution_count": 40,
   "id": "082c62c1",
   "metadata": {},
   "outputs": [],
   "source": [
    "from sklearn.linear_model import LogisticRegression\n",
    "from sklearn.neighbors import KNeighborsClassifier\n",
    "from sklearn.tree import DecisionTreeClassifier\n",
    "from sklearn.metrics import confusion_matrix, classification_report"
   ]
  },
  {
   "cell_type": "code",
   "execution_count": 41,
   "id": "8e72658c",
   "metadata": {},
   "outputs": [
    {
     "name": "stdout",
     "output_type": "stream",
     "text": [
      "Confusion_Matrix\n",
      " [[17  0  0]\n",
      " [ 0 11  1]\n",
      " [ 0  2 14]]\n",
      "Classification Report\n",
      "                  precision    recall  f1-score   support\n",
      "\n",
      "    Iris-setosa       1.00      1.00      1.00        17\n",
      "Iris-versicolor       0.85      0.92      0.88        12\n",
      " Iris-virginica       0.93      0.88      0.90        16\n",
      "\n",
      "       accuracy                           0.93        45\n",
      "      macro avg       0.93      0.93      0.93        45\n",
      "   weighted avg       0.94      0.93      0.93        45\n",
      "\n"
     ]
    }
   ],
   "source": [
    "lr1 = LogisticRegression(max_iter=100000)\n",
    "lr_res = eval_model(lr1,x_train,y_train,x_test,y_test,'LogReg')"
   ]
  },
  {
   "cell_type": "code",
   "execution_count": 42,
   "id": "3392515f",
   "metadata": {},
   "outputs": [
    {
     "data": {
      "text/html": [
       "<div>\n",
       "<style scoped>\n",
       "    .dataframe tbody tr th:only-of-type {\n",
       "        vertical-align: middle;\n",
       "    }\n",
       "\n",
       "    .dataframe tbody tr th {\n",
       "        vertical-align: top;\n",
       "    }\n",
       "\n",
       "    .dataframe thead th {\n",
       "        text-align: right;\n",
       "    }\n",
       "</style>\n",
       "<table border=\"1\" class=\"dataframe\">\n",
       "  <thead>\n",
       "    <tr style=\"text-align: right;\">\n",
       "      <th></th>\n",
       "      <th>Train_Acc</th>\n",
       "      <th>Test_Acc</th>\n",
       "    </tr>\n",
       "  </thead>\n",
       "  <tbody>\n",
       "    <tr>\n",
       "      <th>LogReg</th>\n",
       "      <td>0.990196</td>\n",
       "      <td>0.933333</td>\n",
       "    </tr>\n",
       "  </tbody>\n",
       "</table>\n",
       "</div>"
      ],
      "text/plain": [
       "        Train_Acc  Test_Acc\n",
       "LogReg   0.990196  0.933333"
      ]
     },
     "execution_count": 42,
     "metadata": {},
     "output_type": "execute_result"
    }
   ],
   "source": [
    "lr_res        # Highly overfit"
   ]
  },
  {
   "cell_type": "markdown",
   "id": "d14ac264",
   "metadata": {},
   "source": [
    "### DT"
   ]
  },
  {
   "cell_type": "code",
   "execution_count": 43,
   "id": "7de2d55b",
   "metadata": {
    "scrolled": true
   },
   "outputs": [
    {
     "name": "stdout",
     "output_type": "stream",
     "text": [
      "Confusion_Matrix\n",
      " [[17  0  0]\n",
      " [ 0 11  1]\n",
      " [ 0  0 16]]\n",
      "Classification Report\n",
      "                  precision    recall  f1-score   support\n",
      "\n",
      "    Iris-setosa       1.00      1.00      1.00        17\n",
      "Iris-versicolor       1.00      0.92      0.96        12\n",
      " Iris-virginica       0.94      1.00      0.97        16\n",
      "\n",
      "       accuracy                           0.98        45\n",
      "      macro avg       0.98      0.97      0.98        45\n",
      "   weighted avg       0.98      0.98      0.98        45\n",
      "\n"
     ]
    },
    {
     "data": {
      "text/html": [
       "<div>\n",
       "<style scoped>\n",
       "    .dataframe tbody tr th:only-of-type {\n",
       "        vertical-align: middle;\n",
       "    }\n",
       "\n",
       "    .dataframe tbody tr th {\n",
       "        vertical-align: top;\n",
       "    }\n",
       "\n",
       "    .dataframe thead th {\n",
       "        text-align: right;\n",
       "    }\n",
       "</style>\n",
       "<table border=\"1\" class=\"dataframe\">\n",
       "  <thead>\n",
       "    <tr style=\"text-align: right;\">\n",
       "      <th></th>\n",
       "      <th>Train_Acc</th>\n",
       "      <th>Test_Acc</th>\n",
       "    </tr>\n",
       "  </thead>\n",
       "  <tbody>\n",
       "    <tr>\n",
       "      <th>DTree</th>\n",
       "      <td>0.980392</td>\n",
       "      <td>0.977778</td>\n",
       "    </tr>\n",
       "  </tbody>\n",
       "</table>\n",
       "</div>"
      ],
      "text/plain": [
       "       Train_Acc  Test_Acc\n",
       "DTree   0.980392  0.977778"
      ]
     },
     "execution_count": 43,
     "metadata": {},
     "output_type": "execute_result"
    }
   ],
   "source": [
    "dt = DecisionTreeClassifier(criterion='gini',max_depth=12,min_samples_split=15)\n",
    "dt_res = eval_model(dt,x_train,y_train,x_test,y_test,'DTree')\n",
    "dt_res"
   ]
  },
  {
   "cell_type": "markdown",
   "id": "e15e0e9d",
   "metadata": {},
   "source": [
    "### RF"
   ]
  },
  {
   "cell_type": "code",
   "execution_count": 44,
   "id": "6f613045",
   "metadata": {},
   "outputs": [
    {
     "name": "stdout",
     "output_type": "stream",
     "text": [
      "Confusion_Matrix\n",
      " [[17  0  0]\n",
      " [ 0 11  1]\n",
      " [ 0  1 15]]\n",
      "Classification Report\n",
      "                  precision    recall  f1-score   support\n",
      "\n",
      "    Iris-setosa       1.00      1.00      1.00        17\n",
      "Iris-versicolor       0.92      0.92      0.92        12\n",
      " Iris-virginica       0.94      0.94      0.94        16\n",
      "\n",
      "       accuracy                           0.96        45\n",
      "      macro avg       0.95      0.95      0.95        45\n",
      "   weighted avg       0.96      0.96      0.96        45\n",
      "\n"
     ]
    },
    {
     "data": {
      "text/html": [
       "<div>\n",
       "<style scoped>\n",
       "    .dataframe tbody tr th:only-of-type {\n",
       "        vertical-align: middle;\n",
       "    }\n",
       "\n",
       "    .dataframe tbody tr th {\n",
       "        vertical-align: top;\n",
       "    }\n",
       "\n",
       "    .dataframe thead th {\n",
       "        text-align: right;\n",
       "    }\n",
       "</style>\n",
       "<table border=\"1\" class=\"dataframe\">\n",
       "  <thead>\n",
       "    <tr style=\"text-align: right;\">\n",
       "      <th></th>\n",
       "      <th>Train_Acc</th>\n",
       "      <th>Test_Acc</th>\n",
       "    </tr>\n",
       "  </thead>\n",
       "  <tbody>\n",
       "    <tr>\n",
       "      <th>Random Forest</th>\n",
       "      <td>0.980392</td>\n",
       "      <td>0.955556</td>\n",
       "    </tr>\n",
       "  </tbody>\n",
       "</table>\n",
       "</div>"
      ],
      "text/plain": [
       "               Train_Acc  Test_Acc\n",
       "Random Forest   0.980392  0.955556"
      ]
     },
     "execution_count": 44,
     "metadata": {},
     "output_type": "execute_result"
    }
   ],
   "source": [
    "rf = RandomForestClassifier(n_estimators=80,criterion='gini',max_depth=12,min_samples_split=15)\n",
    "rf_res = eval_model(rf,x_train,y_train,x_test,y_test,'Random Forest')\n",
    "rf_res"
   ]
  },
  {
   "cell_type": "markdown",
   "id": "316fb790",
   "metadata": {},
   "source": [
    "### Knn"
   ]
  },
  {
   "cell_type": "code",
   "execution_count": 46,
   "id": "94534d3a",
   "metadata": {},
   "outputs": [
    {
     "name": "stdout",
     "output_type": "stream",
     "text": [
      "Confusion_Matrix\n",
      " [[17  0  0]\n",
      " [ 0 11  1]\n",
      " [ 0  1 15]]\n",
      "Classification Report\n",
      "                  precision    recall  f1-score   support\n",
      "\n",
      "    Iris-setosa       1.00      1.00      1.00        17\n",
      "Iris-versicolor       0.92      0.92      0.92        12\n",
      " Iris-virginica       0.94      0.94      0.94        16\n",
      "\n",
      "       accuracy                           0.96        45\n",
      "      macro avg       0.95      0.95      0.95        45\n",
      "   weighted avg       0.96      0.96      0.96        45\n",
      "\n"
     ]
    },
    {
     "name": "stderr",
     "output_type": "stream",
     "text": [
      "D:\\Anaconda\\lib\\site-packages\\sklearn\\neighbors\\_classification.py:228: FutureWarning: Unlike other reduction functions (e.g. `skew`, `kurtosis`), the default behavior of `mode` typically preserves the axis it acts along. In SciPy 1.11.0, this behavior will change: the default value of `keepdims` will become False, the `axis` over which the statistic is taken will be eliminated, and the value None will no longer be accepted. Set `keepdims` to True or False to avoid this warning.\n",
      "  mode, _ = stats.mode(_y[neigh_ind, k], axis=1)\n",
      "D:\\Anaconda\\lib\\site-packages\\sklearn\\neighbors\\_classification.py:228: FutureWarning: Unlike other reduction functions (e.g. `skew`, `kurtosis`), the default behavior of `mode` typically preserves the axis it acts along. In SciPy 1.11.0, this behavior will change: the default value of `keepdims` will become False, the `axis` over which the statistic is taken will be eliminated, and the value None will no longer be accepted. Set `keepdims` to True or False to avoid this warning.\n",
      "  mode, _ = stats.mode(_y[neigh_ind, k], axis=1)\n",
      "D:\\Anaconda\\lib\\site-packages\\sklearn\\neighbors\\_classification.py:228: FutureWarning: Unlike other reduction functions (e.g. `skew`, `kurtosis`), the default behavior of `mode` typically preserves the axis it acts along. In SciPy 1.11.0, this behavior will change: the default value of `keepdims` will become False, the `axis` over which the statistic is taken will be eliminated, and the value None will no longer be accepted. Set `keepdims` to True or False to avoid this warning.\n",
      "  mode, _ = stats.mode(_y[neigh_ind, k], axis=1)\n"
     ]
    }
   ],
   "source": [
    "knn = KNeighborsClassifier(n_neighbors=15)\n",
    "knn_res = eval_model(knn,x_train,y_train,x_test,y_test,'KNN')"
   ]
  },
  {
   "cell_type": "code",
   "execution_count": 47,
   "id": "846aac68",
   "metadata": {},
   "outputs": [
    {
     "data": {
      "text/html": [
       "<div>\n",
       "<style scoped>\n",
       "    .dataframe tbody tr th:only-of-type {\n",
       "        vertical-align: middle;\n",
       "    }\n",
       "\n",
       "    .dataframe tbody tr th {\n",
       "        vertical-align: top;\n",
       "    }\n",
       "\n",
       "    .dataframe thead th {\n",
       "        text-align: right;\n",
       "    }\n",
       "</style>\n",
       "<table border=\"1\" class=\"dataframe\">\n",
       "  <thead>\n",
       "    <tr style=\"text-align: right;\">\n",
       "      <th></th>\n",
       "      <th>Train_Acc</th>\n",
       "      <th>Test_Acc</th>\n",
       "    </tr>\n",
       "  </thead>\n",
       "  <tbody>\n",
       "    <tr>\n",
       "      <th>KNN</th>\n",
       "      <td>0.970588</td>\n",
       "      <td>0.955556</td>\n",
       "    </tr>\n",
       "  </tbody>\n",
       "</table>\n",
       "</div>"
      ],
      "text/plain": [
       "     Train_Acc  Test_Acc\n",
       "KNN   0.970588  0.955556"
      ]
     },
     "execution_count": 47,
     "metadata": {},
     "output_type": "execute_result"
    }
   ],
   "source": [
    "knn_res"
   ]
  },
  {
   "cell_type": "markdown",
   "id": "91549b25",
   "metadata": {},
   "source": [
    "### Concating all models"
   ]
  },
  {
   "cell_type": "code",
   "execution_count": 49,
   "id": "f89514cc",
   "metadata": {
    "scrolled": true
   },
   "outputs": [
    {
     "data": {
      "text/html": [
       "<div>\n",
       "<style scoped>\n",
       "    .dataframe tbody tr th:only-of-type {\n",
       "        vertical-align: middle;\n",
       "    }\n",
       "\n",
       "    .dataframe tbody tr th {\n",
       "        vertical-align: top;\n",
       "    }\n",
       "\n",
       "    .dataframe thead th {\n",
       "        text-align: right;\n",
       "    }\n",
       "</style>\n",
       "<table border=\"1\" class=\"dataframe\">\n",
       "  <thead>\n",
       "    <tr style=\"text-align: right;\">\n",
       "      <th></th>\n",
       "      <th>Train_Acc</th>\n",
       "      <th>Test_Acc</th>\n",
       "    </tr>\n",
       "  </thead>\n",
       "  <tbody>\n",
       "    <tr>\n",
       "      <th>LogReg</th>\n",
       "      <td>0.990196</td>\n",
       "      <td>0.933333</td>\n",
       "    </tr>\n",
       "    <tr>\n",
       "      <th>KNN</th>\n",
       "      <td>0.970588</td>\n",
       "      <td>0.955556</td>\n",
       "    </tr>\n",
       "    <tr>\n",
       "      <th>DTree</th>\n",
       "      <td>0.980392</td>\n",
       "      <td>0.977778</td>\n",
       "    </tr>\n",
       "    <tr>\n",
       "      <th>Random Forest</th>\n",
       "      <td>0.980392</td>\n",
       "      <td>0.955556</td>\n",
       "    </tr>\n",
       "  </tbody>\n",
       "</table>\n",
       "</div>"
      ],
      "text/plain": [
       "               Train_Acc  Test_Acc\n",
       "LogReg          0.990196  0.933333\n",
       "KNN             0.970588  0.955556\n",
       "DTree           0.980392  0.977778\n",
       "Random Forest   0.980392  0.955556"
      ]
     },
     "execution_count": 49,
     "metadata": {},
     "output_type": "execute_result"
    }
   ],
   "source": [
    "all_res = pd.concat([lr_res,knn_res,dt_res,rf_res])\n",
    "all_res"
   ]
  },
  {
   "cell_type": "markdown",
   "id": "2855fbfd",
   "metadata": {},
   "source": [
    "### Inference \n",
    "According to the result Decision Tree Model is performing best"
   ]
  },
  {
   "cell_type": "code",
   "execution_count": 61,
   "id": "5067c09d",
   "metadata": {},
   "outputs": [],
   "source": [
    "ypred_dt =  dt.predict(x_test)"
   ]
  },
  {
   "cell_type": "code",
   "execution_count": 68,
   "id": "bd2e748c",
   "metadata": {},
   "outputs": [
    {
     "data": {
      "text/html": [
       "<div>\n",
       "<style scoped>\n",
       "    .dataframe tbody tr th:only-of-type {\n",
       "        vertical-align: middle;\n",
       "    }\n",
       "\n",
       "    .dataframe tbody tr th {\n",
       "        vertical-align: top;\n",
       "    }\n",
       "\n",
       "    .dataframe thead th {\n",
       "        text-align: right;\n",
       "    }\n",
       "</style>\n",
       "<table border=\"1\" class=\"dataframe\">\n",
       "  <thead>\n",
       "    <tr style=\"text-align: right;\">\n",
       "      <th></th>\n",
       "      <th>Actual_y_test</th>\n",
       "      <th>Pred</th>\n",
       "    </tr>\n",
       "  </thead>\n",
       "  <tbody>\n",
       "    <tr>\n",
       "      <th>127</th>\n",
       "      <td>Iris-virginica</td>\n",
       "      <td>Iris-virginica</td>\n",
       "    </tr>\n",
       "    <tr>\n",
       "      <th>53</th>\n",
       "      <td>Iris-versicolor</td>\n",
       "      <td>Iris-versicolor</td>\n",
       "    </tr>\n",
       "    <tr>\n",
       "      <th>140</th>\n",
       "      <td>Iris-virginica</td>\n",
       "      <td>Iris-virginica</td>\n",
       "    </tr>\n",
       "    <tr>\n",
       "      <th>19</th>\n",
       "      <td>Iris-setosa</td>\n",
       "      <td>Iris-setosa</td>\n",
       "    </tr>\n",
       "    <tr>\n",
       "      <th>106</th>\n",
       "      <td>Iris-virginica</td>\n",
       "      <td>Iris-virginica</td>\n",
       "    </tr>\n",
       "    <tr>\n",
       "      <th>12</th>\n",
       "      <td>Iris-setosa</td>\n",
       "      <td>Iris-setosa</td>\n",
       "    </tr>\n",
       "    <tr>\n",
       "      <th>78</th>\n",
       "      <td>Iris-versicolor</td>\n",
       "      <td>Iris-versicolor</td>\n",
       "    </tr>\n",
       "    <tr>\n",
       "      <th>31</th>\n",
       "      <td>Iris-setosa</td>\n",
       "      <td>Iris-setosa</td>\n",
       "    </tr>\n",
       "    <tr>\n",
       "      <th>83</th>\n",
       "      <td>Iris-versicolor</td>\n",
       "      <td>Iris-virginica</td>\n",
       "    </tr>\n",
       "    <tr>\n",
       "      <th>9</th>\n",
       "      <td>Iris-setosa</td>\n",
       "      <td>Iris-setosa</td>\n",
       "    </tr>\n",
       "    <tr>\n",
       "      <th>26</th>\n",
       "      <td>Iris-setosa</td>\n",
       "      <td>Iris-setosa</td>\n",
       "    </tr>\n",
       "    <tr>\n",
       "      <th>98</th>\n",
       "      <td>Iris-versicolor</td>\n",
       "      <td>Iris-versicolor</td>\n",
       "    </tr>\n",
       "    <tr>\n",
       "      <th>146</th>\n",
       "      <td>Iris-virginica</td>\n",
       "      <td>Iris-virginica</td>\n",
       "    </tr>\n",
       "    <tr>\n",
       "      <th>69</th>\n",
       "      <td>Iris-versicolor</td>\n",
       "      <td>Iris-versicolor</td>\n",
       "    </tr>\n",
       "    <tr>\n",
       "      <th>136</th>\n",
       "      <td>Iris-virginica</td>\n",
       "      <td>Iris-virginica</td>\n",
       "    </tr>\n",
       "    <tr>\n",
       "      <th>68</th>\n",
       "      <td>Iris-versicolor</td>\n",
       "      <td>Iris-versicolor</td>\n",
       "    </tr>\n",
       "    <tr>\n",
       "      <th>18</th>\n",
       "      <td>Iris-setosa</td>\n",
       "      <td>Iris-setosa</td>\n",
       "    </tr>\n",
       "    <tr>\n",
       "      <th>71</th>\n",
       "      <td>Iris-versicolor</td>\n",
       "      <td>Iris-versicolor</td>\n",
       "    </tr>\n",
       "    <tr>\n",
       "      <th>126</th>\n",
       "      <td>Iris-virginica</td>\n",
       "      <td>Iris-virginica</td>\n",
       "    </tr>\n",
       "    <tr>\n",
       "      <th>30</th>\n",
       "      <td>Iris-setosa</td>\n",
       "      <td>Iris-setosa</td>\n",
       "    </tr>\n",
       "  </tbody>\n",
       "</table>\n",
       "</div>"
      ],
      "text/plain": [
       "       Actual_y_test             Pred\n",
       "127   Iris-virginica   Iris-virginica\n",
       "53   Iris-versicolor  Iris-versicolor\n",
       "140   Iris-virginica   Iris-virginica\n",
       "19       Iris-setosa      Iris-setosa\n",
       "106   Iris-virginica   Iris-virginica\n",
       "12       Iris-setosa      Iris-setosa\n",
       "78   Iris-versicolor  Iris-versicolor\n",
       "31       Iris-setosa      Iris-setosa\n",
       "83   Iris-versicolor   Iris-virginica\n",
       "9        Iris-setosa      Iris-setosa\n",
       "26       Iris-setosa      Iris-setosa\n",
       "98   Iris-versicolor  Iris-versicolor\n",
       "146   Iris-virginica   Iris-virginica\n",
       "69   Iris-versicolor  Iris-versicolor\n",
       "136   Iris-virginica   Iris-virginica\n",
       "68   Iris-versicolor  Iris-versicolor\n",
       "18       Iris-setosa      Iris-setosa\n",
       "71   Iris-versicolor  Iris-versicolor\n",
       "126   Iris-virginica   Iris-virginica\n",
       "30       Iris-setosa      Iris-setosa"
      ]
     },
     "execution_count": 68,
     "metadata": {},
     "output_type": "execute_result"
    }
   ],
   "source": [
    "res_df = pd.DataFrame({'Actual_y_test':y_test,'Pred':ypred_dt})        # showing actual and prediction\n",
    "res_df.head(20)"
   ]
  },
  {
   "cell_type": "markdown",
   "id": "9225efec",
   "metadata": {},
   "source": [
    "## Summary"
   ]
  },
  {
   "cell_type": "markdown",
   "id": "96fcd146",
   "metadata": {},
   "source": [
    "This is how using Data Analysis and Machine Learning Algorithm, we have succesfully able to predict the variation of iris flowers."
   ]
  }
 ],
 "metadata": {
  "kernelspec": {
   "display_name": "Python 3 (ipykernel)",
   "language": "python",
   "name": "python3"
  },
  "language_info": {
   "codemirror_mode": {
    "name": "ipython",
    "version": 3
   },
   "file_extension": ".py",
   "mimetype": "text/x-python",
   "name": "python",
   "nbconvert_exporter": "python",
   "pygments_lexer": "ipython3",
   "version": "3.9.13"
  }
 },
 "nbformat": 4,
 "nbformat_minor": 5
}
