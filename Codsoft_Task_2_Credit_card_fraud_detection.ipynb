{
 "cells": [
  {
   "cell_type": "markdown",
   "id": "979ccb4b",
   "metadata": {},
   "source": [
    "**CREDIT CARD FRAUD DETECTION -** \n",
    "\n",
    "Credit card fraud is the act of using another person’s credit card to make purchases or request cash advances without the cardholder’s knowledge or consent.\n",
    "\n",
    "Credit card fraud detection is the collective term for the policies, tools, methodologies, and practices that credit card companies and financial institutions take to combat identity fraud and stop fraudulent transactions.\n",
    "\n",
    "In recent years, as the amount of data has exploded and the number of payment card transactions has skyrocketed, credit fraud detection has become largely digitized and automated. Most modern solutions leverage artificial intelligence (AI) and machine learning (ML) to manage data analysis, predictive modeling, decision-making, fraud alerts and remediation activity that occur when individual instances of credit card fraud are detected."
   ]
  },
  {
   "cell_type": "markdown",
   "id": "d881b46b",
   "metadata": {},
   "source": [
    "### Import Libraries"
   ]
  },
  {
   "cell_type": "code",
   "execution_count": 15,
   "id": "fc9790e2",
   "metadata": {},
   "outputs": [],
   "source": [
    "import numpy as np\n",
    "import pandas as pd\n",
    "import matplotlib.pyplot as plt\n",
    "import seaborn as sns"
   ]
  },
  {
   "cell_type": "markdown",
   "id": "d29b8d36",
   "metadata": {},
   "source": [
    "### Read Dataset"
   ]
  },
  {
   "cell_type": "code",
   "execution_count": 16,
   "id": "53a339bc",
   "metadata": {},
   "outputs": [],
   "source": [
    "df = pd.read_csv('creditcard.csv')"
   ]
  },
  {
   "cell_type": "code",
   "execution_count": 17,
   "id": "6ac59f88",
   "metadata": {
    "scrolled": true
   },
   "outputs": [
    {
     "data": {
      "text/html": [
       "<div>\n",
       "<style scoped>\n",
       "    .dataframe tbody tr th:only-of-type {\n",
       "        vertical-align: middle;\n",
       "    }\n",
       "\n",
       "    .dataframe tbody tr th {\n",
       "        vertical-align: top;\n",
       "    }\n",
       "\n",
       "    .dataframe thead th {\n",
       "        text-align: right;\n",
       "    }\n",
       "</style>\n",
       "<table border=\"1\" class=\"dataframe\">\n",
       "  <thead>\n",
       "    <tr style=\"text-align: right;\">\n",
       "      <th></th>\n",
       "      <th>Time</th>\n",
       "      <th>V1</th>\n",
       "      <th>V2</th>\n",
       "      <th>V3</th>\n",
       "      <th>V4</th>\n",
       "      <th>V5</th>\n",
       "      <th>V6</th>\n",
       "      <th>V7</th>\n",
       "      <th>V8</th>\n",
       "      <th>V9</th>\n",
       "      <th>...</th>\n",
       "      <th>V21</th>\n",
       "      <th>V22</th>\n",
       "      <th>V23</th>\n",
       "      <th>V24</th>\n",
       "      <th>V25</th>\n",
       "      <th>V26</th>\n",
       "      <th>V27</th>\n",
       "      <th>V28</th>\n",
       "      <th>Amount</th>\n",
       "      <th>Class</th>\n",
       "    </tr>\n",
       "  </thead>\n",
       "  <tbody>\n",
       "    <tr>\n",
       "      <th>0</th>\n",
       "      <td>0.0</td>\n",
       "      <td>-1.359807</td>\n",
       "      <td>-0.072781</td>\n",
       "      <td>2.536347</td>\n",
       "      <td>1.378155</td>\n",
       "      <td>-0.338321</td>\n",
       "      <td>0.462388</td>\n",
       "      <td>0.239599</td>\n",
       "      <td>0.098698</td>\n",
       "      <td>0.363787</td>\n",
       "      <td>...</td>\n",
       "      <td>-0.018307</td>\n",
       "      <td>0.277838</td>\n",
       "      <td>-0.110474</td>\n",
       "      <td>0.066928</td>\n",
       "      <td>0.128539</td>\n",
       "      <td>-0.189115</td>\n",
       "      <td>0.133558</td>\n",
       "      <td>-0.021053</td>\n",
       "      <td>149.62</td>\n",
       "      <td>0</td>\n",
       "    </tr>\n",
       "    <tr>\n",
       "      <th>1</th>\n",
       "      <td>0.0</td>\n",
       "      <td>1.191857</td>\n",
       "      <td>0.266151</td>\n",
       "      <td>0.166480</td>\n",
       "      <td>0.448154</td>\n",
       "      <td>0.060018</td>\n",
       "      <td>-0.082361</td>\n",
       "      <td>-0.078803</td>\n",
       "      <td>0.085102</td>\n",
       "      <td>-0.255425</td>\n",
       "      <td>...</td>\n",
       "      <td>-0.225775</td>\n",
       "      <td>-0.638672</td>\n",
       "      <td>0.101288</td>\n",
       "      <td>-0.339846</td>\n",
       "      <td>0.167170</td>\n",
       "      <td>0.125895</td>\n",
       "      <td>-0.008983</td>\n",
       "      <td>0.014724</td>\n",
       "      <td>2.69</td>\n",
       "      <td>0</td>\n",
       "    </tr>\n",
       "    <tr>\n",
       "      <th>2</th>\n",
       "      <td>1.0</td>\n",
       "      <td>-1.358354</td>\n",
       "      <td>-1.340163</td>\n",
       "      <td>1.773209</td>\n",
       "      <td>0.379780</td>\n",
       "      <td>-0.503198</td>\n",
       "      <td>1.800499</td>\n",
       "      <td>0.791461</td>\n",
       "      <td>0.247676</td>\n",
       "      <td>-1.514654</td>\n",
       "      <td>...</td>\n",
       "      <td>0.247998</td>\n",
       "      <td>0.771679</td>\n",
       "      <td>0.909412</td>\n",
       "      <td>-0.689281</td>\n",
       "      <td>-0.327642</td>\n",
       "      <td>-0.139097</td>\n",
       "      <td>-0.055353</td>\n",
       "      <td>-0.059752</td>\n",
       "      <td>378.66</td>\n",
       "      <td>0</td>\n",
       "    </tr>\n",
       "    <tr>\n",
       "      <th>3</th>\n",
       "      <td>1.0</td>\n",
       "      <td>-0.966272</td>\n",
       "      <td>-0.185226</td>\n",
       "      <td>1.792993</td>\n",
       "      <td>-0.863291</td>\n",
       "      <td>-0.010309</td>\n",
       "      <td>1.247203</td>\n",
       "      <td>0.237609</td>\n",
       "      <td>0.377436</td>\n",
       "      <td>-1.387024</td>\n",
       "      <td>...</td>\n",
       "      <td>-0.108300</td>\n",
       "      <td>0.005274</td>\n",
       "      <td>-0.190321</td>\n",
       "      <td>-1.175575</td>\n",
       "      <td>0.647376</td>\n",
       "      <td>-0.221929</td>\n",
       "      <td>0.062723</td>\n",
       "      <td>0.061458</td>\n",
       "      <td>123.50</td>\n",
       "      <td>0</td>\n",
       "    </tr>\n",
       "    <tr>\n",
       "      <th>4</th>\n",
       "      <td>2.0</td>\n",
       "      <td>-1.158233</td>\n",
       "      <td>0.877737</td>\n",
       "      <td>1.548718</td>\n",
       "      <td>0.403034</td>\n",
       "      <td>-0.407193</td>\n",
       "      <td>0.095921</td>\n",
       "      <td>0.592941</td>\n",
       "      <td>-0.270533</td>\n",
       "      <td>0.817739</td>\n",
       "      <td>...</td>\n",
       "      <td>-0.009431</td>\n",
       "      <td>0.798278</td>\n",
       "      <td>-0.137458</td>\n",
       "      <td>0.141267</td>\n",
       "      <td>-0.206010</td>\n",
       "      <td>0.502292</td>\n",
       "      <td>0.219422</td>\n",
       "      <td>0.215153</td>\n",
       "      <td>69.99</td>\n",
       "      <td>0</td>\n",
       "    </tr>\n",
       "  </tbody>\n",
       "</table>\n",
       "<p>5 rows × 31 columns</p>\n",
       "</div>"
      ],
      "text/plain": [
       "   Time        V1        V2        V3        V4        V5        V6        V7  \\\n",
       "0   0.0 -1.359807 -0.072781  2.536347  1.378155 -0.338321  0.462388  0.239599   \n",
       "1   0.0  1.191857  0.266151  0.166480  0.448154  0.060018 -0.082361 -0.078803   \n",
       "2   1.0 -1.358354 -1.340163  1.773209  0.379780 -0.503198  1.800499  0.791461   \n",
       "3   1.0 -0.966272 -0.185226  1.792993 -0.863291 -0.010309  1.247203  0.237609   \n",
       "4   2.0 -1.158233  0.877737  1.548718  0.403034 -0.407193  0.095921  0.592941   \n",
       "\n",
       "         V8        V9  ...       V21       V22       V23       V24       V25  \\\n",
       "0  0.098698  0.363787  ... -0.018307  0.277838 -0.110474  0.066928  0.128539   \n",
       "1  0.085102 -0.255425  ... -0.225775 -0.638672  0.101288 -0.339846  0.167170   \n",
       "2  0.247676 -1.514654  ...  0.247998  0.771679  0.909412 -0.689281 -0.327642   \n",
       "3  0.377436 -1.387024  ... -0.108300  0.005274 -0.190321 -1.175575  0.647376   \n",
       "4 -0.270533  0.817739  ... -0.009431  0.798278 -0.137458  0.141267 -0.206010   \n",
       "\n",
       "        V26       V27       V28  Amount  Class  \n",
       "0 -0.189115  0.133558 -0.021053  149.62      0  \n",
       "1  0.125895 -0.008983  0.014724    2.69      0  \n",
       "2 -0.139097 -0.055353 -0.059752  378.66      0  \n",
       "3 -0.221929  0.062723  0.061458  123.50      0  \n",
       "4  0.502292  0.219422  0.215153   69.99      0  \n",
       "\n",
       "[5 rows x 31 columns]"
      ]
     },
     "execution_count": 17,
     "metadata": {},
     "output_type": "execute_result"
    }
   ],
   "source": [
    "df.head()"
   ]
  },
  {
   "cell_type": "code",
   "execution_count": 26,
   "id": "7cfb332d",
   "metadata": {},
   "outputs": [
    {
     "data": {
      "text/plain": [
       "(283726, 31)"
      ]
     },
     "execution_count": 26,
     "metadata": {},
     "output_type": "execute_result"
    }
   ],
   "source": [
    "df.shape   # Rows - 283726 , columns = 31"
   ]
  },
  {
   "cell_type": "code",
   "execution_count": 18,
   "id": "a407ebc3",
   "metadata": {},
   "outputs": [
    {
     "name": "stdout",
     "output_type": "stream",
     "text": [
      "<class 'pandas.core.frame.DataFrame'>\n",
      "RangeIndex: 284807 entries, 0 to 284806\n",
      "Data columns (total 31 columns):\n",
      " #   Column  Non-Null Count   Dtype  \n",
      "---  ------  --------------   -----  \n",
      " 0   Time    284807 non-null  float64\n",
      " 1   V1      284807 non-null  float64\n",
      " 2   V2      284807 non-null  float64\n",
      " 3   V3      284807 non-null  float64\n",
      " 4   V4      284807 non-null  float64\n",
      " 5   V5      284807 non-null  float64\n",
      " 6   V6      284807 non-null  float64\n",
      " 7   V7      284807 non-null  float64\n",
      " 8   V8      284807 non-null  float64\n",
      " 9   V9      284807 non-null  float64\n",
      " 10  V10     284807 non-null  float64\n",
      " 11  V11     284807 non-null  float64\n",
      " 12  V12     284807 non-null  float64\n",
      " 13  V13     284807 non-null  float64\n",
      " 14  V14     284807 non-null  float64\n",
      " 15  V15     284807 non-null  float64\n",
      " 16  V16     284807 non-null  float64\n",
      " 17  V17     284807 non-null  float64\n",
      " 18  V18     284807 non-null  float64\n",
      " 19  V19     284807 non-null  float64\n",
      " 20  V20     284807 non-null  float64\n",
      " 21  V21     284807 non-null  float64\n",
      " 22  V22     284807 non-null  float64\n",
      " 23  V23     284807 non-null  float64\n",
      " 24  V24     284807 non-null  float64\n",
      " 25  V25     284807 non-null  float64\n",
      " 26  V26     284807 non-null  float64\n",
      " 27  V27     284807 non-null  float64\n",
      " 28  V28     284807 non-null  float64\n",
      " 29  Amount  284807 non-null  float64\n",
      " 30  Class   284807 non-null  int64  \n",
      "dtypes: float64(30), int64(1)\n",
      "memory usage: 67.4 MB\n"
     ]
    }
   ],
   "source": [
    "df.info()    # exploring rows and columns"
   ]
  },
  {
   "cell_type": "code",
   "execution_count": 19,
   "id": "1cd9fb8c",
   "metadata": {},
   "outputs": [],
   "source": [
    "x = df.iloc[:,1:30].values   # assigned the values of columns 1 to 29 in x \n",
    "y = df.iloc[:,30].values     # assigned the values of column 30 to y"
   ]
  },
  {
   "cell_type": "code",
   "execution_count": 20,
   "id": "96d36eb7",
   "metadata": {
    "scrolled": true
   },
   "outputs": [
    {
     "name": "stdout",
     "output_type": "stream",
     "text": [
      "Input Range: (284807, 29)\n",
      "Output Range: (284807,)\n"
     ]
    }
   ],
   "source": [
    "print('Input Range:',x.shape)\n",
    "print('Output Range:',y.shape)"
   ]
  },
  {
   "cell_type": "code",
   "execution_count": 21,
   "id": "ba0f1ac5",
   "metadata": {},
   "outputs": [],
   "source": [
    "df1 = df.copy()     # creating copy "
   ]
  },
  {
   "cell_type": "code",
   "execution_count": 23,
   "id": "e5251779",
   "metadata": {},
   "outputs": [
    {
     "data": {
      "text/plain": [
       "1081"
      ]
     },
     "execution_count": 23,
     "metadata": {},
     "output_type": "execute_result"
    }
   ],
   "source": [
    "df.duplicated().sum()   # checking duplicates"
   ]
  },
  {
   "cell_type": "code",
   "execution_count": 24,
   "id": "6b60fe0c",
   "metadata": {},
   "outputs": [],
   "source": [
    "df.drop_duplicates(inplace=True)   # droping the duplicates"
   ]
  },
  {
   "cell_type": "code",
   "execution_count": 12,
   "id": "a1fbf795",
   "metadata": {
    "scrolled": true
   },
   "outputs": [
    {
     "data": {
      "text/plain": [
       "Time      0\n",
       "V1        0\n",
       "V2        0\n",
       "V3        0\n",
       "V4        0\n",
       "V5        0\n",
       "V6        0\n",
       "V7        0\n",
       "V8        0\n",
       "V9        0\n",
       "V10       0\n",
       "V11       0\n",
       "V12       0\n",
       "V13       0\n",
       "V14       0\n",
       "V15       0\n",
       "V16       0\n",
       "V17       0\n",
       "V18       0\n",
       "V19       0\n",
       "V20       0\n",
       "V21       0\n",
       "V22       0\n",
       "V23       0\n",
       "V24       0\n",
       "V25       0\n",
       "V26       0\n",
       "V27       0\n",
       "V28       0\n",
       "Amount    0\n",
       "Class     0\n",
       "dtype: int64"
      ]
     },
     "execution_count": 12,
     "metadata": {},
     "output_type": "execute_result"
    }
   ],
   "source": [
    "df.isnull().sum()   # checking null values"
   ]
  },
  {
   "cell_type": "code",
   "execution_count": 13,
   "id": "6c4ce2da",
   "metadata": {
    "scrolled": true
   },
   "outputs": [
    {
     "data": {
      "text/plain": [
       "0    283253\n",
       "1       473\n",
       "Name: Class, dtype: int64"
      ]
     },
     "execution_count": 13,
     "metadata": {},
     "output_type": "execute_result"
    }
   ],
   "source": [
    "df.Class.value_counts()   # checking the value count of class"
   ]
  },
  {
   "cell_type": "markdown",
   "id": "585441f7",
   "metadata": {},
   "source": [
    "Inference\n",
    "1) It is highly imbalanced data\n"
   ]
  },
  {
   "cell_type": "code",
   "execution_count": 29,
   "id": "750c6a01",
   "metadata": {
    "scrolled": true
   },
   "outputs": [
    {
     "data": {
      "image/png": "[encoded data removed]",
      "text/plain": [
       "<Figure size 640x480 with 1 Axes>"
      ]
     },
     "metadata": {},
     "output_type": "display_data"
    }
   ],
   "source": [
    "sns.countplot(x=df['Class'],hue=df['Class'])\n",
    "plt.title('class Distribution of Transaction ')   \n",
    "plt.show()   "
   ]
  },
  {
   "cell_type": "code",
   "execution_count": 30,
   "id": "717e056f",
   "metadata": {},
   "outputs": [],
   "source": [
    "# normal transaction - 0\n",
    "# fraudulent transaction - 1"
   ]
  },
  {
   "cell_type": "markdown",
   "id": "bf3a3d4f",
   "metadata": {},
   "source": [
    "### Seprate data for analysis"
   ]
  },
  {
   "cell_type": "code",
   "execution_count": 38,
   "id": "f7eb0d36",
   "metadata": {},
   "outputs": [],
   "source": [
    "legit_transaction = df[df.Class==0]\n",
    "fraud_transaction = df[df.Class==1]"
   ]
  },
  {
   "cell_type": "markdown",
   "id": "b443ced8",
   "metadata": {},
   "source": [
    "#### Calculating the mean of imbalanced data"
   ]
  },
  {
   "cell_type": "code",
   "execution_count": 39,
   "id": "2c94c4a2",
   "metadata": {},
   "outputs": [
    {
     "data": {
      "text/html": [
       "<div>\n",
       "<style scoped>\n",
       "    .dataframe tbody tr th:only-of-type {\n",
       "        vertical-align: middle;\n",
       "    }\n",
       "\n",
       "    .dataframe tbody tr th {\n",
       "        vertical-align: top;\n",
       "    }\n",
       "\n",
       "    .dataframe thead th {\n",
       "        text-align: right;\n",
       "    }\n",
       "</style>\n",
       "<table border=\"1\" class=\"dataframe\">\n",
       "  <thead>\n",
       "    <tr style=\"text-align: right;\">\n",
       "      <th></th>\n",
       "      <th>Time</th>\n",
       "      <th>V1</th>\n",
       "      <th>V2</th>\n",
       "      <th>V3</th>\n",
       "      <th>V4</th>\n",
       "      <th>V5</th>\n",
       "      <th>V6</th>\n",
       "      <th>V7</th>\n",
       "      <th>V8</th>\n",
       "      <th>V9</th>\n",
       "      <th>...</th>\n",
       "      <th>V20</th>\n",
       "      <th>V21</th>\n",
       "      <th>V22</th>\n",
       "      <th>V23</th>\n",
       "      <th>V24</th>\n",
       "      <th>V25</th>\n",
       "      <th>V26</th>\n",
       "      <th>V27</th>\n",
       "      <th>V28</th>\n",
       "      <th>Amount</th>\n",
       "    </tr>\n",
       "    <tr>\n",
       "      <th>Class</th>\n",
       "      <th></th>\n",
       "      <th></th>\n",
       "      <th></th>\n",
       "      <th></th>\n",
       "      <th></th>\n",
       "      <th></th>\n",
       "      <th></th>\n",
       "      <th></th>\n",
       "      <th></th>\n",
       "      <th></th>\n",
       "      <th></th>\n",
       "      <th></th>\n",
       "      <th></th>\n",
       "      <th></th>\n",
       "      <th></th>\n",
       "      <th></th>\n",
       "      <th></th>\n",
       "      <th></th>\n",
       "      <th></th>\n",
       "      <th></th>\n",
       "      <th></th>\n",
       "    </tr>\n",
       "  </thead>\n",
       "  <tbody>\n",
       "    <tr>\n",
       "      <th>0</th>\n",
       "      <td>94835.058093</td>\n",
       "      <td>0.013439</td>\n",
       "      <td>-0.009829</td>\n",
       "      <td>0.012853</td>\n",
       "      <td>-0.010440</td>\n",
       "      <td>0.006769</td>\n",
       "      <td>0.001251</td>\n",
       "      <td>0.010447</td>\n",
       "      <td>-0.002448</td>\n",
       "      <td>0.002613</td>\n",
       "      <td>...</td>\n",
       "      <td>-0.000489</td>\n",
       "      <td>-0.00115</td>\n",
       "      <td>-0.000160</td>\n",
       "      <td>0.000360</td>\n",
       "      <td>0.000393</td>\n",
       "      <td>-0.000301</td>\n",
       "      <td>0.000065</td>\n",
       "      <td>0.001409</td>\n",
       "      <td>0.000418</td>\n",
       "      <td>88.413575</td>\n",
       "    </tr>\n",
       "    <tr>\n",
       "      <th>1</th>\n",
       "      <td>80450.513742</td>\n",
       "      <td>-4.498280</td>\n",
       "      <td>3.405965</td>\n",
       "      <td>-6.729599</td>\n",
       "      <td>4.472591</td>\n",
       "      <td>-2.957197</td>\n",
       "      <td>-1.432518</td>\n",
       "      <td>-5.175912</td>\n",
       "      <td>0.953255</td>\n",
       "      <td>-2.522124</td>\n",
       "      <td>...</td>\n",
       "      <td>0.405043</td>\n",
       "      <td>0.46655</td>\n",
       "      <td>0.086639</td>\n",
       "      <td>-0.096464</td>\n",
       "      <td>-0.106643</td>\n",
       "      <td>0.040615</td>\n",
       "      <td>0.050456</td>\n",
       "      <td>0.213774</td>\n",
       "      <td>0.078270</td>\n",
       "      <td>123.871860</td>\n",
       "    </tr>\n",
       "  </tbody>\n",
       "</table>\n",
       "<p>2 rows × 30 columns</p>\n",
       "</div>"
      ],
      "text/plain": [
       "               Time        V1        V2        V3        V4        V5  \\\n",
       "Class                                                                   \n",
       "0      94835.058093  0.013439 -0.009829  0.012853 -0.010440  0.006769   \n",
       "1      80450.513742 -4.498280  3.405965 -6.729599  4.472591 -2.957197   \n",
       "\n",
       "             V6        V7        V8        V9  ...       V20      V21  \\\n",
       "Class                                          ...                      \n",
       "0      0.001251  0.010447 -0.002448  0.002613  ... -0.000489 -0.00115   \n",
       "1     -1.432518 -5.175912  0.953255 -2.522124  ...  0.405043  0.46655   \n",
       "\n",
       "            V22       V23       V24       V25       V26       V27       V28  \\\n",
       "Class                                                                         \n",
       "0     -0.000160  0.000360  0.000393 -0.000301  0.000065  0.001409  0.000418   \n",
       "1      0.086639 -0.096464 -0.106643  0.040615  0.050456  0.213774  0.078270   \n",
       "\n",
       "           Amount  \n",
       "Class              \n",
       "0       88.413575  \n",
       "1      123.871860  \n",
       "\n",
       "[2 rows x 30 columns]"
      ]
     },
     "execution_count": 39,
     "metadata": {},
     "output_type": "execute_result"
    }
   ],
   "source": [
    "df.groupby('Class').mean()"
   ]
  },
  {
   "cell_type": "markdown",
   "id": "4624c1e6",
   "metadata": {},
   "source": [
    "### Performing undersampling"
   ]
  },
  {
   "cell_type": "code",
   "execution_count": 40,
   "id": "aee5b308",
   "metadata": {},
   "outputs": [
    {
     "data": {
      "text/plain": [
       "(473, 31)"
      ]
     },
     "execution_count": 40,
     "metadata": {},
     "output_type": "execute_result"
    }
   ],
   "source": [
    "legit_transaction_sample = legit_transaction.sample(n=473)\n",
    "legit_transaction_sample.shape"
   ]
  },
  {
   "cell_type": "code",
   "execution_count": 41,
   "id": "7e562c1d",
   "metadata": {},
   "outputs": [
    {
     "data": {
      "text/plain": [
       "(473, 31)"
      ]
     },
     "execution_count": 41,
     "metadata": {},
     "output_type": "execute_result"
    }
   ],
   "source": [
    "fraud_transaction.shape"
   ]
  },
  {
   "cell_type": "code",
   "execution_count": 42,
   "id": "84912e01",
   "metadata": {},
   "outputs": [
    {
     "data": {
      "text/html": [
       "<div>\n",
       "<style scoped>\n",
       "    .dataframe tbody tr th:only-of-type {\n",
       "        vertical-align: middle;\n",
       "    }\n",
       "\n",
       "    .dataframe tbody tr th {\n",
       "        vertical-align: top;\n",
       "    }\n",
       "\n",
       "    .dataframe thead th {\n",
       "        text-align: right;\n",
       "    }\n",
       "</style>\n",
       "<table border=\"1\" class=\"dataframe\">\n",
       "  <thead>\n",
       "    <tr style=\"text-align: right;\">\n",
       "      <th></th>\n",
       "      <th>Time</th>\n",
       "      <th>V1</th>\n",
       "      <th>V2</th>\n",
       "      <th>V3</th>\n",
       "      <th>V4</th>\n",
       "      <th>V5</th>\n",
       "      <th>V6</th>\n",
       "      <th>V7</th>\n",
       "      <th>V8</th>\n",
       "      <th>V9</th>\n",
       "      <th>...</th>\n",
       "      <th>V21</th>\n",
       "      <th>V22</th>\n",
       "      <th>V23</th>\n",
       "      <th>V24</th>\n",
       "      <th>V25</th>\n",
       "      <th>V26</th>\n",
       "      <th>V27</th>\n",
       "      <th>V28</th>\n",
       "      <th>Amount</th>\n",
       "      <th>Class</th>\n",
       "    </tr>\n",
       "  </thead>\n",
       "  <tbody>\n",
       "    <tr>\n",
       "      <th>268168</th>\n",
       "      <td>163092.0</td>\n",
       "      <td>2.145245</td>\n",
       "      <td>0.039356</td>\n",
       "      <td>-1.660194</td>\n",
       "      <td>0.114912</td>\n",
       "      <td>0.526238</td>\n",
       "      <td>-0.713262</td>\n",
       "      <td>0.261844</td>\n",
       "      <td>-0.387745</td>\n",
       "      <td>0.533761</td>\n",
       "      <td>...</td>\n",
       "      <td>0.204016</td>\n",
       "      <td>0.822409</td>\n",
       "      <td>-0.141892</td>\n",
       "      <td>-0.934021</td>\n",
       "      <td>0.431554</td>\n",
       "      <td>-0.043192</td>\n",
       "      <td>-0.009940</td>\n",
       "      <td>-0.065665</td>\n",
       "      <td>1.00</td>\n",
       "      <td>0</td>\n",
       "    </tr>\n",
       "    <tr>\n",
       "      <th>28308</th>\n",
       "      <td>34944.0</td>\n",
       "      <td>0.560242</td>\n",
       "      <td>-0.993708</td>\n",
       "      <td>0.807048</td>\n",
       "      <td>1.104314</td>\n",
       "      <td>-0.223363</td>\n",
       "      <td>2.396959</td>\n",
       "      <td>-0.794306</td>\n",
       "      <td>0.850655</td>\n",
       "      <td>0.734161</td>\n",
       "      <td>...</td>\n",
       "      <td>0.198964</td>\n",
       "      <td>0.404275</td>\n",
       "      <td>-0.097349</td>\n",
       "      <td>-1.363971</td>\n",
       "      <td>0.013991</td>\n",
       "      <td>-0.295470</td>\n",
       "      <td>0.096814</td>\n",
       "      <td>0.042953</td>\n",
       "      <td>209.00</td>\n",
       "      <td>0</td>\n",
       "    </tr>\n",
       "    <tr>\n",
       "      <th>87720</th>\n",
       "      <td>61806.0</td>\n",
       "      <td>-0.185295</td>\n",
       "      <td>-0.947079</td>\n",
       "      <td>1.511600</td>\n",
       "      <td>0.118632</td>\n",
       "      <td>-1.132949</td>\n",
       "      <td>0.183862</td>\n",
       "      <td>-0.275444</td>\n",
       "      <td>-0.198805</td>\n",
       "      <td>-0.151882</td>\n",
       "      <td>...</td>\n",
       "      <td>0.117690</td>\n",
       "      <td>0.834404</td>\n",
       "      <td>0.509118</td>\n",
       "      <td>0.074154</td>\n",
       "      <td>-1.313631</td>\n",
       "      <td>-0.235802</td>\n",
       "      <td>0.113776</td>\n",
       "      <td>0.014968</td>\n",
       "      <td>125.20</td>\n",
       "      <td>0</td>\n",
       "    </tr>\n",
       "    <tr>\n",
       "      <th>25399</th>\n",
       "      <td>33591.0</td>\n",
       "      <td>-0.645479</td>\n",
       "      <td>1.837198</td>\n",
       "      <td>0.045530</td>\n",
       "      <td>1.054287</td>\n",
       "      <td>0.280922</td>\n",
       "      <td>-0.602407</td>\n",
       "      <td>0.404646</td>\n",
       "      <td>0.293162</td>\n",
       "      <td>-0.697403</td>\n",
       "      <td>...</td>\n",
       "      <td>0.124421</td>\n",
       "      <td>0.408854</td>\n",
       "      <td>-0.065446</td>\n",
       "      <td>-0.006141</td>\n",
       "      <td>-0.125864</td>\n",
       "      <td>-0.310423</td>\n",
       "      <td>-0.032439</td>\n",
       "      <td>0.070456</td>\n",
       "      <td>1.00</td>\n",
       "      <td>0</td>\n",
       "    </tr>\n",
       "    <tr>\n",
       "      <th>180927</th>\n",
       "      <td>124751.0</td>\n",
       "      <td>2.173863</td>\n",
       "      <td>-0.849047</td>\n",
       "      <td>-1.371468</td>\n",
       "      <td>-1.365213</td>\n",
       "      <td>-0.033087</td>\n",
       "      <td>0.156748</td>\n",
       "      <td>-0.667411</td>\n",
       "      <td>0.021967</td>\n",
       "      <td>-0.636319</td>\n",
       "      <td>...</td>\n",
       "      <td>-0.235487</td>\n",
       "      <td>-0.901685</td>\n",
       "      <td>0.371255</td>\n",
       "      <td>-0.419011</td>\n",
       "      <td>-0.466595</td>\n",
       "      <td>-0.685279</td>\n",
       "      <td>-0.027143</td>\n",
       "      <td>-0.052936</td>\n",
       "      <td>37.48</td>\n",
       "      <td>0</td>\n",
       "    </tr>\n",
       "  </tbody>\n",
       "</table>\n",
       "<p>5 rows × 31 columns</p>\n",
       "</div>"
      ],
      "text/plain": [
       "            Time        V1        V2        V3        V4        V5        V6  \\\n",
       "268168  163092.0  2.145245  0.039356 -1.660194  0.114912  0.526238 -0.713262   \n",
       "28308    34944.0  0.560242 -0.993708  0.807048  1.104314 -0.223363  2.396959   \n",
       "87720    61806.0 -0.185295 -0.947079  1.511600  0.118632 -1.132949  0.183862   \n",
       "25399    33591.0 -0.645479  1.837198  0.045530  1.054287  0.280922 -0.602407   \n",
       "180927  124751.0  2.173863 -0.849047 -1.371468 -1.365213 -0.033087  0.156748   \n",
       "\n",
       "              V7        V8        V9  ...       V21       V22       V23  \\\n",
       "268168  0.261844 -0.387745  0.533761  ...  0.204016  0.822409 -0.141892   \n",
       "28308  -0.794306  0.850655  0.734161  ...  0.198964  0.404275 -0.097349   \n",
       "87720  -0.275444 -0.198805 -0.151882  ...  0.117690  0.834404  0.509118   \n",
       "25399   0.404646  0.293162 -0.697403  ...  0.124421  0.408854 -0.065446   \n",
       "180927 -0.667411  0.021967 -0.636319  ... -0.235487 -0.901685  0.371255   \n",
       "\n",
       "             V24       V25       V26       V27       V28  Amount  Class  \n",
       "268168 -0.934021  0.431554 -0.043192 -0.009940 -0.065665    1.00      0  \n",
       "28308  -1.363971  0.013991 -0.295470  0.096814  0.042953  209.00      0  \n",
       "87720   0.074154 -1.313631 -0.235802  0.113776  0.014968  125.20      0  \n",
       "25399  -0.006141 -0.125864 -0.310423 -0.032439  0.070456    1.00      0  \n",
       "180927 -0.419011 -0.466595 -0.685279 -0.027143 -0.052936   37.48      0  \n",
       "\n",
       "[5 rows x 31 columns]"
      ]
     },
     "execution_count": 42,
     "metadata": {},
     "output_type": "execute_result"
    }
   ],
   "source": [
    "df = pd.concat([legit_transaction_sample,fraud_transaction],axis=0)    # concat \n",
    "df.head()"
   ]
  },
  {
   "cell_type": "code",
   "execution_count": 43,
   "id": "4856ec20",
   "metadata": {},
   "outputs": [
    {
     "data": {
      "text/plain": [
       "0    473\n",
       "1    473\n",
       "Name: Class, dtype: int64"
      ]
     },
     "execution_count": 43,
     "metadata": {},
     "output_type": "execute_result"
    }
   ],
   "source": [
    "df.Class.value_counts()     # value count after undersampling"
   ]
  },
  {
   "cell_type": "markdown",
   "id": "2ba2968e",
   "metadata": {},
   "source": [
    "### Checking mean for both the transaction after undersampling process"
   ]
  },
  {
   "cell_type": "code",
   "execution_count": 44,
   "id": "5f694673",
   "metadata": {},
   "outputs": [
    {
     "data": {
      "text/html": [
       "<div>\n",
       "<style scoped>\n",
       "    .dataframe tbody tr th:only-of-type {\n",
       "        vertical-align: middle;\n",
       "    }\n",
       "\n",
       "    .dataframe tbody tr th {\n",
       "        vertical-align: top;\n",
       "    }\n",
       "\n",
       "    .dataframe thead th {\n",
       "        text-align: right;\n",
       "    }\n",
       "</style>\n",
       "<table border=\"1\" class=\"dataframe\">\n",
       "  <thead>\n",
       "    <tr style=\"text-align: right;\">\n",
       "      <th></th>\n",
       "      <th>Time</th>\n",
       "      <th>V1</th>\n",
       "      <th>V2</th>\n",
       "      <th>V3</th>\n",
       "      <th>V4</th>\n",
       "      <th>V5</th>\n",
       "      <th>V6</th>\n",
       "      <th>V7</th>\n",
       "      <th>V8</th>\n",
       "      <th>V9</th>\n",
       "      <th>...</th>\n",
       "      <th>V20</th>\n",
       "      <th>V21</th>\n",
       "      <th>V22</th>\n",
       "      <th>V23</th>\n",
       "      <th>V24</th>\n",
       "      <th>V25</th>\n",
       "      <th>V26</th>\n",
       "      <th>V27</th>\n",
       "      <th>V28</th>\n",
       "      <th>Amount</th>\n",
       "    </tr>\n",
       "    <tr>\n",
       "      <th>Class</th>\n",
       "      <th></th>\n",
       "      <th></th>\n",
       "      <th></th>\n",
       "      <th></th>\n",
       "      <th></th>\n",
       "      <th></th>\n",
       "      <th></th>\n",
       "      <th></th>\n",
       "      <th></th>\n",
       "      <th></th>\n",
       "      <th></th>\n",
       "      <th></th>\n",
       "      <th></th>\n",
       "      <th></th>\n",
       "      <th></th>\n",
       "      <th></th>\n",
       "      <th></th>\n",
       "      <th></th>\n",
       "      <th></th>\n",
       "      <th></th>\n",
       "      <th></th>\n",
       "    </tr>\n",
       "  </thead>\n",
       "  <tbody>\n",
       "    <tr>\n",
       "      <th>0</th>\n",
       "      <td>97865.536998</td>\n",
       "      <td>0.003817</td>\n",
       "      <td>-0.186088</td>\n",
       "      <td>0.004937</td>\n",
       "      <td>0.079487</td>\n",
       "      <td>0.022175</td>\n",
       "      <td>-0.017170</td>\n",
       "      <td>-0.014224</td>\n",
       "      <td>0.046065</td>\n",
       "      <td>0.023616</td>\n",
       "      <td>...</td>\n",
       "      <td>-0.030975</td>\n",
       "      <td>0.024651</td>\n",
       "      <td>0.022526</td>\n",
       "      <td>-0.000833</td>\n",
       "      <td>-0.018488</td>\n",
       "      <td>-0.016879</td>\n",
       "      <td>0.011783</td>\n",
       "      <td>0.016180</td>\n",
       "      <td>-0.029307</td>\n",
       "      <td>97.985264</td>\n",
       "    </tr>\n",
       "    <tr>\n",
       "      <th>1</th>\n",
       "      <td>80450.513742</td>\n",
       "      <td>-4.498280</td>\n",
       "      <td>3.405965</td>\n",
       "      <td>-6.729599</td>\n",
       "      <td>4.472591</td>\n",
       "      <td>-2.957197</td>\n",
       "      <td>-1.432518</td>\n",
       "      <td>-5.175912</td>\n",
       "      <td>0.953255</td>\n",
       "      <td>-2.522124</td>\n",
       "      <td>...</td>\n",
       "      <td>0.405043</td>\n",
       "      <td>0.466550</td>\n",
       "      <td>0.086639</td>\n",
       "      <td>-0.096464</td>\n",
       "      <td>-0.106643</td>\n",
       "      <td>0.040615</td>\n",
       "      <td>0.050456</td>\n",
       "      <td>0.213774</td>\n",
       "      <td>0.078270</td>\n",
       "      <td>123.871860</td>\n",
       "    </tr>\n",
       "  </tbody>\n",
       "</table>\n",
       "<p>2 rows × 30 columns</p>\n",
       "</div>"
      ],
      "text/plain": [
       "               Time        V1        V2        V3        V4        V5  \\\n",
       "Class                                                                   \n",
       "0      97865.536998  0.003817 -0.186088  0.004937  0.079487  0.022175   \n",
       "1      80450.513742 -4.498280  3.405965 -6.729599  4.472591 -2.957197   \n",
       "\n",
       "             V6        V7        V8        V9  ...       V20       V21  \\\n",
       "Class                                          ...                       \n",
       "0     -0.017170 -0.014224  0.046065  0.023616  ... -0.030975  0.024651   \n",
       "1     -1.432518 -5.175912  0.953255 -2.522124  ...  0.405043  0.466550   \n",
       "\n",
       "            V22       V23       V24       V25       V26       V27       V28  \\\n",
       "Class                                                                         \n",
       "0      0.022526 -0.000833 -0.018488 -0.016879  0.011783  0.016180 -0.029307   \n",
       "1      0.086639 -0.096464 -0.106643  0.040615  0.050456  0.213774  0.078270   \n",
       "\n",
       "           Amount  \n",
       "Class              \n",
       "0       97.985264  \n",
       "1      123.871860  \n",
       "\n",
       "[2 rows x 30 columns]"
      ]
     },
     "execution_count": 44,
     "metadata": {},
     "output_type": "execute_result"
    }
   ],
   "source": [
    "df.groupby('Class').mean()"
   ]
  },
  {
   "cell_type": "code",
   "execution_count": 46,
   "id": "ec642448",
   "metadata": {},
   "outputs": [
    {
     "data": {
      "text/html": [
       "<div>\n",
       "<style scoped>\n",
       "    .dataframe tbody tr th:only-of-type {\n",
       "        vertical-align: middle;\n",
       "    }\n",
       "\n",
       "    .dataframe tbody tr th {\n",
       "        vertical-align: top;\n",
       "    }\n",
       "\n",
       "    .dataframe thead th {\n",
       "        text-align: right;\n",
       "    }\n",
       "</style>\n",
       "<table border=\"1\" class=\"dataframe\">\n",
       "  <thead>\n",
       "    <tr style=\"text-align: right;\">\n",
       "      <th></th>\n",
       "      <th>Time</th>\n",
       "      <th>V1</th>\n",
       "      <th>V2</th>\n",
       "      <th>V3</th>\n",
       "      <th>V4</th>\n",
       "      <th>V5</th>\n",
       "      <th>V6</th>\n",
       "      <th>V7</th>\n",
       "      <th>V8</th>\n",
       "      <th>V9</th>\n",
       "      <th>...</th>\n",
       "      <th>V21</th>\n",
       "      <th>V22</th>\n",
       "      <th>V23</th>\n",
       "      <th>V24</th>\n",
       "      <th>V25</th>\n",
       "      <th>V26</th>\n",
       "      <th>V27</th>\n",
       "      <th>V28</th>\n",
       "      <th>Amount</th>\n",
       "      <th>Class</th>\n",
       "    </tr>\n",
       "  </thead>\n",
       "  <tbody>\n",
       "    <tr>\n",
       "      <th>268168</th>\n",
       "      <td>163092.0</td>\n",
       "      <td>2.145245</td>\n",
       "      <td>0.039356</td>\n",
       "      <td>-1.660194</td>\n",
       "      <td>0.114912</td>\n",
       "      <td>0.526238</td>\n",
       "      <td>-0.713262</td>\n",
       "      <td>0.261844</td>\n",
       "      <td>-0.387745</td>\n",
       "      <td>0.533761</td>\n",
       "      <td>...</td>\n",
       "      <td>0.204016</td>\n",
       "      <td>0.822409</td>\n",
       "      <td>-0.141892</td>\n",
       "      <td>-0.934021</td>\n",
       "      <td>0.431554</td>\n",
       "      <td>-0.043192</td>\n",
       "      <td>-0.009940</td>\n",
       "      <td>-0.065665</td>\n",
       "      <td>1.00</td>\n",
       "      <td>0</td>\n",
       "    </tr>\n",
       "    <tr>\n",
       "      <th>28308</th>\n",
       "      <td>34944.0</td>\n",
       "      <td>0.560242</td>\n",
       "      <td>-0.993708</td>\n",
       "      <td>0.807048</td>\n",
       "      <td>1.104314</td>\n",
       "      <td>-0.223363</td>\n",
       "      <td>2.396959</td>\n",
       "      <td>-0.794306</td>\n",
       "      <td>0.850655</td>\n",
       "      <td>0.734161</td>\n",
       "      <td>...</td>\n",
       "      <td>0.198964</td>\n",
       "      <td>0.404275</td>\n",
       "      <td>-0.097349</td>\n",
       "      <td>-1.363971</td>\n",
       "      <td>0.013991</td>\n",
       "      <td>-0.295470</td>\n",
       "      <td>0.096814</td>\n",
       "      <td>0.042953</td>\n",
       "      <td>209.00</td>\n",
       "      <td>0</td>\n",
       "    </tr>\n",
       "    <tr>\n",
       "      <th>87720</th>\n",
       "      <td>61806.0</td>\n",
       "      <td>-0.185295</td>\n",
       "      <td>-0.947079</td>\n",
       "      <td>1.511600</td>\n",
       "      <td>0.118632</td>\n",
       "      <td>-1.132949</td>\n",
       "      <td>0.183862</td>\n",
       "      <td>-0.275444</td>\n",
       "      <td>-0.198805</td>\n",
       "      <td>-0.151882</td>\n",
       "      <td>...</td>\n",
       "      <td>0.117690</td>\n",
       "      <td>0.834404</td>\n",
       "      <td>0.509118</td>\n",
       "      <td>0.074154</td>\n",
       "      <td>-1.313631</td>\n",
       "      <td>-0.235802</td>\n",
       "      <td>0.113776</td>\n",
       "      <td>0.014968</td>\n",
       "      <td>125.20</td>\n",
       "      <td>0</td>\n",
       "    </tr>\n",
       "    <tr>\n",
       "      <th>25399</th>\n",
       "      <td>33591.0</td>\n",
       "      <td>-0.645479</td>\n",
       "      <td>1.837198</td>\n",
       "      <td>0.045530</td>\n",
       "      <td>1.054287</td>\n",
       "      <td>0.280922</td>\n",
       "      <td>-0.602407</td>\n",
       "      <td>0.404646</td>\n",
       "      <td>0.293162</td>\n",
       "      <td>-0.697403</td>\n",
       "      <td>...</td>\n",
       "      <td>0.124421</td>\n",
       "      <td>0.408854</td>\n",
       "      <td>-0.065446</td>\n",
       "      <td>-0.006141</td>\n",
       "      <td>-0.125864</td>\n",
       "      <td>-0.310423</td>\n",
       "      <td>-0.032439</td>\n",
       "      <td>0.070456</td>\n",
       "      <td>1.00</td>\n",
       "      <td>0</td>\n",
       "    </tr>\n",
       "    <tr>\n",
       "      <th>180927</th>\n",
       "      <td>124751.0</td>\n",
       "      <td>2.173863</td>\n",
       "      <td>-0.849047</td>\n",
       "      <td>-1.371468</td>\n",
       "      <td>-1.365213</td>\n",
       "      <td>-0.033087</td>\n",
       "      <td>0.156748</td>\n",
       "      <td>-0.667411</td>\n",
       "      <td>0.021967</td>\n",
       "      <td>-0.636319</td>\n",
       "      <td>...</td>\n",
       "      <td>-0.235487</td>\n",
       "      <td>-0.901685</td>\n",
       "      <td>0.371255</td>\n",
       "      <td>-0.419011</td>\n",
       "      <td>-0.466595</td>\n",
       "      <td>-0.685279</td>\n",
       "      <td>-0.027143</td>\n",
       "      <td>-0.052936</td>\n",
       "      <td>37.48</td>\n",
       "      <td>0</td>\n",
       "    </tr>\n",
       "  </tbody>\n",
       "</table>\n",
       "<p>5 rows × 31 columns</p>\n",
       "</div>"
      ],
      "text/plain": [
       "            Time        V1        V2        V3        V4        V5        V6  \\\n",
       "268168  163092.0  2.145245  0.039356 -1.660194  0.114912  0.526238 -0.713262   \n",
       "28308    34944.0  0.560242 -0.993708  0.807048  1.104314 -0.223363  2.396959   \n",
       "87720    61806.0 -0.185295 -0.947079  1.511600  0.118632 -1.132949  0.183862   \n",
       "25399    33591.0 -0.645479  1.837198  0.045530  1.054287  0.280922 -0.602407   \n",
       "180927  124751.0  2.173863 -0.849047 -1.371468 -1.365213 -0.033087  0.156748   \n",
       "\n",
       "              V7        V8        V9  ...       V21       V22       V23  \\\n",
       "268168  0.261844 -0.387745  0.533761  ...  0.204016  0.822409 -0.141892   \n",
       "28308  -0.794306  0.850655  0.734161  ...  0.198964  0.404275 -0.097349   \n",
       "87720  -0.275444 -0.198805 -0.151882  ...  0.117690  0.834404  0.509118   \n",
       "25399   0.404646  0.293162 -0.697403  ...  0.124421  0.408854 -0.065446   \n",
       "180927 -0.667411  0.021967 -0.636319  ... -0.235487 -0.901685  0.371255   \n",
       "\n",
       "             V24       V25       V26       V27       V28  Amount  Class  \n",
       "268168 -0.934021  0.431554 -0.043192 -0.009940 -0.065665    1.00      0  \n",
       "28308  -1.363971  0.013991 -0.295470  0.096814  0.042953  209.00      0  \n",
       "87720   0.074154 -1.313631 -0.235802  0.113776  0.014968  125.20      0  \n",
       "25399  -0.006141 -0.125864 -0.310423 -0.032439  0.070456    1.00      0  \n",
       "180927 -0.419011 -0.466595 -0.685279 -0.027143 -0.052936   37.48      0  \n",
       "\n",
       "[5 rows x 31 columns]"
      ]
     },
     "execution_count": 46,
     "metadata": {},
     "output_type": "execute_result"
    }
   ],
   "source": [
    "df.head()"
   ]
  },
  {
   "cell_type": "markdown",
   "id": "02431210",
   "metadata": {},
   "source": [
    "### Spliting Data into X and Y"
   ]
  },
  {
   "cell_type": "code",
   "execution_count": 47,
   "id": "13850178",
   "metadata": {},
   "outputs": [],
   "source": [
    "x = df.drop('Class',axis=1)\n",
    "y = df['Class']"
   ]
  },
  {
   "cell_type": "code",
   "execution_count": 48,
   "id": "32904231",
   "metadata": {},
   "outputs": [
    {
     "data": {
      "text/plain": [
       "(946, 30)"
      ]
     },
     "execution_count": 48,
     "metadata": {},
     "output_type": "execute_result"
    }
   ],
   "source": [
    "x.shape"
   ]
  },
  {
   "cell_type": "code",
   "execution_count": 49,
   "id": "62ea8897",
   "metadata": {},
   "outputs": [
    {
     "data": {
      "text/plain": [
       "(946,)"
      ]
     },
     "execution_count": 49,
     "metadata": {},
     "output_type": "execute_result"
    }
   ],
   "source": [
    "y.shape"
   ]
  },
  {
   "cell_type": "markdown",
   "id": "9ca20eda",
   "metadata": {},
   "source": [
    "## Spliting data into Test and Train data"
   ]
  },
  {
   "cell_type": "code",
   "execution_count": 50,
   "id": "8673c2c5",
   "metadata": {},
   "outputs": [],
   "source": [
    "from sklearn.model_selection import train_test_split"
   ]
  },
  {
   "cell_type": "code",
   "execution_count": 55,
   "id": "d9f6782b",
   "metadata": {},
   "outputs": [
    {
     "name": "stdout",
     "output_type": "stream",
     "text": [
      "(662, 30)\n",
      "(284, 30)\n",
      "(662,)\n",
      "(284,)\n"
     ]
    }
   ],
   "source": [
    "x_train,x_test,y_train,y_test = train_test_split(x,y,test_size=0.30,random_state=42)\n",
    "print(x_train.shape)\n",
    "print(x_test.shape)\n",
    "print(y_train.shape)\n",
    "print(y_test.shape)"
   ]
  },
  {
   "cell_type": "markdown",
   "id": "87484039",
   "metadata": {},
   "source": [
    "### Model Building"
   ]
  },
  {
   "cell_type": "code",
   "execution_count": 57,
   "id": "c0768eb1",
   "metadata": {},
   "outputs": [],
   "source": [
    "from sklearn.linear_model import LogisticRegression"
   ]
  },
  {
   "cell_type": "code",
   "execution_count": 58,
   "id": "ac0ff5ff",
   "metadata": {},
   "outputs": [],
   "source": [
    "from  sklearn.metrics import confusion_matrix,classification_report,roc_curve,roc_auc_score"
   ]
  },
  {
   "cell_type": "code",
   "execution_count": 59,
   "id": "647ff4c8",
   "metadata": {},
   "outputs": [],
   "source": [
    "def gen_and_eval_model(model,x_train,x_test,y_train,y_test):\n",
    "    model.fit(x_train,y_train)\n",
    "    print('Train acc',model.score(x_train,y_train))\n",
    "    print('Test acc',model.score(x_test,y_test))\n",
    "    ypred = model.predict(x_test)\n",
    "    cm = confusion_matrix(y_test,ypred)\n",
    "    print('Confusion Matrix\\n',cm)\n",
    "    print('Classification Report\\n',classification_report(y_test,ypred))    "
   ]
  },
  {
   "cell_type": "code",
   "execution_count": 60,
   "id": "488a3386",
   "metadata": {},
   "outputs": [
    {
     "name": "stdout",
     "output_type": "stream",
     "text": [
      "Train acc 0.9123867069486404\n",
      "Test acc 0.926056338028169\n",
      "Confusion Matrix\n",
      " [[132   8]\n",
      " [ 13 131]]\n",
      "Classification Report\n",
      "               precision    recall  f1-score   support\n",
      "\n",
      "           0       0.91      0.94      0.93       140\n",
      "           1       0.94      0.91      0.93       144\n",
      "\n",
      "    accuracy                           0.93       284\n",
      "   macro avg       0.93      0.93      0.93       284\n",
      "weighted avg       0.93      0.93      0.93       284\n",
      "\n"
     ]
    }
   ],
   "source": [
    "lr = LogisticRegression(max_iter=10000)\n",
    "gen_and_eval_model(lr,x_train,x_test,y_train,y_test)"
   ]
  },
  {
   "cell_type": "markdown",
   "id": "e8324a32",
   "metadata": {},
   "source": [
    "### Evaluating the model"
   ]
  },
  {
   "cell_type": "code",
   "execution_count": 61,
   "id": "2e7432d8",
   "metadata": {},
   "outputs": [
    {
     "data": {
      "text/plain": [
       "LogisticRegression(max_iter=10000)"
      ]
     },
     "execution_count": 61,
     "metadata": {},
     "output_type": "execute_result"
    }
   ],
   "source": [
    "lr1 = LogisticRegression(max_iter=10000)\n",
    "lr1.fit(x_train,y_train)"
   ]
  },
  {
   "cell_type": "code",
   "execution_count": 62,
   "id": "a1d9e663",
   "metadata": {},
   "outputs": [
    {
     "name": "stdout",
     "output_type": "stream",
     "text": [
      "Train Scr 0.9123867069486404\n",
      "Test Scr 0.926056338028169\n"
     ]
    }
   ],
   "source": [
    "print('Train Scr',lr1.score(x_train,y_train))\n",
    "print('Test Scr',lr1.score(x_test,y_test))"
   ]
  },
  {
   "cell_type": "code",
   "execution_count": 63,
   "id": "bfb2cc6c",
   "metadata": {
    "scrolled": true
   },
   "outputs": [
    {
     "name": "stdout",
     "output_type": "stream",
     "text": [
      "[0 0 1 0 0 1 1 0 0 1 0 0 0 0 1 1 1 1 1 1 1 1 1 0 0 0 1 1 0 0 1 1 1 0 0 1 0\n",
      " 0 0 0 1 0 1 1 1 0 1 1 0 1 0 1 1 1 0 0 0 1 1 0 1 1 0 0 1 0 0 0 0 0 0 0 1 1\n",
      " 0 0 0 1 1 0 1 1 0 0 1 1 0 0 0 0 0 1 0 1 1 1 1 1 1 1 1 1 1 0 0 1 1 0 0 1 0\n",
      " 0 1 0 1 1 1 0 0 1 0 0 1 1 1 0 0 0 1 1 1 0 1 0 0 0 1 0 0 1 1 0 0 1 0 0 0 1\n",
      " 1 1 0 1 1 0 0 1 0 0 1 1 0 1 0 0 1 1 0 0 0 1 1 1 0 1 0 1 1 1 0 1 0 1 0 0 1\n",
      " 1 1 1 0 0 0 0 0 0 1 0 1 1 0 0 1 0 1 0 0 0 1 0 1 0 1 0 1 1 1 1 1 0 0 0 0 1\n",
      " 1 0 1 0 1 1 1 0 0 0 1 1 1 0 0 0 0 0 1 0 1 0 0 0 0 0 1 1 0 0 0 1 1 0 1 0 1\n",
      " 1 0 0 0 0 1 0 0 0 0 0 1 1 0 1 1 1 1 1 1 1 1 0 0 1]\n"
     ]
    }
   ],
   "source": [
    "ypred_lr1 = lr1.predict(x_test)\n",
    "print(ypred_lr1)"
   ]
  },
  {
   "cell_type": "code",
   "execution_count": 64,
   "id": "054d331b",
   "metadata": {},
   "outputs": [],
   "source": [
    "from sklearn.metrics import accuracy_score,precision_score,recall_score"
   ]
  },
  {
   "cell_type": "code",
   "execution_count": 65,
   "id": "7884524b",
   "metadata": {},
   "outputs": [
    {
     "data": {
      "text/html": [
       "<div>\n",
       "<style scoped>\n",
       "    .dataframe tbody tr th:only-of-type {\n",
       "        vertical-align: middle;\n",
       "    }\n",
       "\n",
       "    .dataframe tbody tr th {\n",
       "        vertical-align: top;\n",
       "    }\n",
       "\n",
       "    .dataframe thead th {\n",
       "        text-align: right;\n",
       "    }\n",
       "</style>\n",
       "<table border=\"1\" class=\"dataframe\">\n",
       "  <thead>\n",
       "    <tr style=\"text-align: right;\">\n",
       "      <th></th>\n",
       "      <th>Model</th>\n",
       "      <th>Acc</th>\n",
       "      <th>Precision</th>\n",
       "      <th>Recall</th>\n",
       "    </tr>\n",
       "  </thead>\n",
       "  <tbody>\n",
       "    <tr>\n",
       "      <th>0</th>\n",
       "      <td>LogReg_m1</td>\n",
       "      <td>0.926056</td>\n",
       "      <td>0.942446</td>\n",
       "      <td>0.909722</td>\n",
       "    </tr>\n",
       "  </tbody>\n",
       "</table>\n",
       "</div>"
      ],
      "text/plain": [
       "       Model       Acc  Precision    Recall\n",
       "0  LogReg_m1  0.926056   0.942446  0.909722"
      ]
     },
     "execution_count": 65,
     "metadata": {},
     "output_type": "execute_result"
    }
   ],
   "source": [
    "acc_lr1 = accuracy_score(y_test,ypred_lr1)\n",
    "pre_lr1 = precision_score(y_test,ypred_lr1)\n",
    "rec_lr1 = recall_score(y_test,ypred_lr1)\n",
    "\n",
    "lr1_res = pd.DataFrame({'Model':'LogReg_m1','Acc':acc_lr1,\n",
    "                   'Precision':pre_lr1,'Recall':rec_lr1},index=[0])\n",
    "lr1_res"
   ]
  },
  {
   "cell_type": "markdown",
   "id": "f8acbc6d",
   "metadata": {},
   "source": [
    "### ROC_AUC"
   ]
  },
  {
   "cell_type": "code",
   "execution_count": 66,
   "id": "792a84f6",
   "metadata": {},
   "outputs": [],
   "source": [
    "from sklearn.metrics import roc_curve,roc_auc_score"
   ]
  },
  {
   "cell_type": "code",
   "execution_count": 67,
   "id": "fd2a59be",
   "metadata": {},
   "outputs": [
    {
     "name": "stdout",
     "output_type": "stream",
     "text": [
      "[[7.26560540e-01 2.73439460e-01]\n",
      " [7.72461722e-01 2.27538278e-01]\n",
      " [4.59924665e-01 5.40075335e-01]\n",
      " [9.53291505e-01 4.67084946e-02]\n",
      " [7.56065653e-01 2.43934347e-01]\n",
      " [0.00000000e+00 1.00000000e+00]\n",
      " [4.49255899e-09 9.99999996e-01]\n",
      " [9.69152059e-01 3.08479413e-02]\n",
      " [8.73490215e-01 1.26509785e-01]\n",
      " [0.00000000e+00 1.00000000e+00]]\n"
     ]
    }
   ],
   "source": [
    "ypred_lr1_prob = lr1.predict_proba(x_test)\n",
    "print(ypred_lr1_prob[:10])"
   ]
  },
  {
   "cell_type": "code",
   "execution_count": 68,
   "id": "6c700850",
   "metadata": {},
   "outputs": [
    {
     "name": "stdout",
     "output_type": "stream",
     "text": [
      "[0 0 1 0 0 1 1 0 0 1]\n"
     ]
    }
   ],
   "source": [
    "print(ypred_lr1[:10])"
   ]
  },
  {
   "cell_type": "code",
   "execution_count": 69,
   "id": "08d7c6c2",
   "metadata": {},
   "outputs": [
    {
     "data": {
      "image/png": "[encoded data removed]",
      "text/plain": [
       "<Figure size 640x480 with 1 Axes>"
      ]
     },
     "metadata": {},
     "output_type": "display_data"
    }
   ],
   "source": [
    "fpr,tpr,thresh = roc_curve(y_test,ypred_lr1_prob[:,1])\n",
    "auc_score = roc_auc_score(y_test,ypred_lr1_prob[:,1])\n",
    "plt.plot(fpr,tpr,label='AUC: '+str(auc_score))\n",
    "plt.plot([0,1],[0,1],color='green',linestyle='dotted')\n",
    "plt.title('ROC-AUC Curve')\n",
    "plt.xlabel('FPR')\n",
    "plt.ylabel('TPR')\n",
    "plt.legend()\n",
    "plt.show()"
   ]
  },
  {
   "cell_type": "markdown",
   "id": "951a7f6f",
   "metadata": {},
   "source": [
    "### Best Threshold"
   ]
  },
  {
   "cell_type": "code",
   "execution_count": 70,
   "id": "4faf026d",
   "metadata": {},
   "outputs": [
    {
     "name": "stdout",
     "output_type": "stream",
     "text": [
      "0.4288974028116966\n"
     ]
    }
   ],
   "source": [
    "best_thresh1 = thresh[np.argmax(tpr*(1-fpr))]\n",
    "print(best_thresh1)"
   ]
  },
  {
   "cell_type": "code",
   "execution_count": 71,
   "id": "1654fcdb",
   "metadata": {},
   "outputs": [
    {
     "name": "stdout",
     "output_type": "stream",
     "text": [
      "0.4288974028116966\n"
     ]
    }
   ],
   "source": [
    "best_thresh2 = thresh[np.argmax(abs(tpr-fpr))]\n",
    "print(best_thresh2)"
   ]
  },
  {
   "cell_type": "code",
   "execution_count": 72,
   "id": "07972c08",
   "metadata": {},
   "outputs": [
    {
     "name": "stdout",
     "output_type": "stream",
     "text": [
      "[0 0 1 0 0 1 1 0 0 1 0 0 0 0 1 1 1 1 1 1 1 1 1 0 0 0 1 1 0 0 1 1 1 0 0 1 0\n",
      " 0 0 0 1 0 1 1 1 0 1 1 0 1 0 1 1 1 0 0 0 1 1 0 1 1 0 0 1 0 0 0 0 0 0 0 1 1\n",
      " 0 0 0 1 1 0 1 1 0 0 1 1 0 0 0 0 0 1 0 1 1 1 1 1 1 1 1 1 1 0 0 1 1 0 0 1 0\n",
      " 0 1 0 1 1 1 0 0 1 0 0 1 1 1 0 0 0 1 1 1 0 1 0 0 0 1 1 0 1 1 0 0 1 0 0 0 1\n",
      " 1 1 0 1 1 0 0 1 0 0 1 1 0 1 0 0 1 1 1 0 0 1 1 1 0 1 0 1 1 1 0 1 0 1 0 0 1\n",
      " 1 1 1 0 0 0 0 0 0 1 0 1 1 0 0 1 0 1 0 0 0 1 0 1 0 1 0 1 1 1 1 1 0 0 0 0 1\n",
      " 1 0 1 0 1 1 1 0 1 0 1 1 1 0 0 0 0 1 1 0 1 0 0 0 0 0 1 1 0 0 0 1 1 0 1 0 1\n",
      " 1 0 0 0 0 1 0 0 0 0 0 1 1 0 1 1 1 1 1 1 1 1 0 0 1]\n"
     ]
    }
   ],
   "source": [
    "ypred_lr2 = np.where(ypred_lr1_prob[:,1]>best_thresh2,1,0)\n",
    "print(ypred_lr2)"
   ]
  },
  {
   "cell_type": "code",
   "execution_count": 75,
   "id": "a2b30d2f",
   "metadata": {},
   "outputs": [
    {
     "data": {
      "text/html": [
       "<div>\n",
       "<style scoped>\n",
       "    .dataframe tbody tr th:only-of-type {\n",
       "        vertical-align: middle;\n",
       "    }\n",
       "\n",
       "    .dataframe tbody tr th {\n",
       "        vertical-align: top;\n",
       "    }\n",
       "\n",
       "    .dataframe thead th {\n",
       "        text-align: right;\n",
       "    }\n",
       "</style>\n",
       "<table border=\"1\" class=\"dataframe\">\n",
       "  <thead>\n",
       "    <tr style=\"text-align: right;\">\n",
       "      <th></th>\n",
       "      <th>Model</th>\n",
       "      <th>Acc</th>\n",
       "      <th>Precision</th>\n",
       "      <th>Recall</th>\n",
       "    </tr>\n",
       "  </thead>\n",
       "  <tbody>\n",
       "    <tr>\n",
       "      <th>1</th>\n",
       "      <td>LogReg_m2(Thresh=0.488)</td>\n",
       "      <td>0.933099</td>\n",
       "      <td>0.937063</td>\n",
       "      <td>0.930556</td>\n",
       "    </tr>\n",
       "  </tbody>\n",
       "</table>\n",
       "</div>"
      ],
      "text/plain": [
       "                     Model       Acc  Precision    Recall\n",
       "1  LogReg_m2(Thresh=0.488)  0.933099   0.937063  0.930556"
      ]
     },
     "execution_count": 75,
     "metadata": {},
     "output_type": "execute_result"
    }
   ],
   "source": [
    "acc_lr2 = accuracy_score(y_test,ypred_lr2)\n",
    "pre_lr2 = precision_score(y_test,ypred_lr2)\n",
    "rec_lr2 = recall_score(y_test,ypred_lr2)\n",
    "\n",
    "lr2_res = pd.DataFrame({'Model':'LogReg_m2(Thresh=0.488)','Acc':acc_lr2,\n",
    "                   'Precision':pre_lr2,'Recall':rec_lr2},index=[1])\n",
    "lr2_res"
   ]
  },
  {
   "cell_type": "code",
   "execution_count": 76,
   "id": "9ca46a60",
   "metadata": {},
   "outputs": [
    {
     "data": {
      "text/html": [
       "<div>\n",
       "<style scoped>\n",
       "    .dataframe tbody tr th:only-of-type {\n",
       "        vertical-align: middle;\n",
       "    }\n",
       "\n",
       "    .dataframe tbody tr th {\n",
       "        vertical-align: top;\n",
       "    }\n",
       "\n",
       "    .dataframe thead th {\n",
       "        text-align: right;\n",
       "    }\n",
       "</style>\n",
       "<table border=\"1\" class=\"dataframe\">\n",
       "  <thead>\n",
       "    <tr style=\"text-align: right;\">\n",
       "      <th></th>\n",
       "      <th>Model</th>\n",
       "      <th>Acc</th>\n",
       "      <th>Precision</th>\n",
       "      <th>Recall</th>\n",
       "    </tr>\n",
       "  </thead>\n",
       "  <tbody>\n",
       "    <tr>\n",
       "      <th>0</th>\n",
       "      <td>LogReg_m1</td>\n",
       "      <td>0.926056</td>\n",
       "      <td>0.942446</td>\n",
       "      <td>0.909722</td>\n",
       "    </tr>\n",
       "    <tr>\n",
       "      <th>1</th>\n",
       "      <td>LogReg_m2(Thresh=0.488)</td>\n",
       "      <td>0.933099</td>\n",
       "      <td>0.937063</td>\n",
       "      <td>0.930556</td>\n",
       "    </tr>\n",
       "  </tbody>\n",
       "</table>\n",
       "</div>"
      ],
      "text/plain": [
       "                     Model       Acc  Precision    Recall\n",
       "0                LogReg_m1  0.926056   0.942446  0.909722\n",
       "1  LogReg_m2(Thresh=0.488)  0.933099   0.937063  0.930556"
      ]
     },
     "execution_count": 76,
     "metadata": {},
     "output_type": "execute_result"
    }
   ],
   "source": [
    "res = pd.concat([lr1_res,lr2_res])\n",
    "res"
   ]
  },
  {
   "cell_type": "markdown",
   "id": "b565b80d",
   "metadata": {},
   "source": [
    "#### According to the result logReg_m2 is better than LogReg_m1"
   ]
  },
  {
   "cell_type": "markdown",
   "id": "4e44bdce",
   "metadata": {},
   "source": [
    "#### So this is how Python Programming language can be used to detect the fraud transactions taking place through credit card."
   ]
  }
 ],
 "metadata": {
  "kernelspec": {
   "display_name": "Python 3 (ipykernel)",
   "language": "python",
   "name": "python3"
  },
  "language_info": {
   "codemirror_mode": {
    "name": "ipython",
    "version": 3
   },
   "file_extension": ".py",
   "mimetype": "text/x-python",
   "name": "python",
   "nbconvert_exporter": "python",
   "pygments_lexer": "ipython3",
   "version": "3.9.13"
  }
 },
 "nbformat": 4,
 "nbformat_minor": 5
}
